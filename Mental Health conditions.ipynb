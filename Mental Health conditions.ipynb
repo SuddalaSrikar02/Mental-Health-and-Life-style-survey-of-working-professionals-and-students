{
 "cells": [
  {
   "cell_type": "code",
   "execution_count": 1,
   "id": "d6d4ca70-ba67-478a-84af-387d267830d2",
   "metadata": {},
   "outputs": [],
   "source": [
    "import pandas as pd\n",
    "import numpy as np"
   ]
  },
  {
   "cell_type": "markdown",
   "id": "d1cee237-e845-430e-93f4-add09443c3d3",
   "metadata": {},
   "source": [
    "# Load Dataset"
   ]
  },
  {
   "cell_type": "code",
   "execution_count": 2,
   "id": "9995cf45-62a0-4398-a3d6-f20b999e0397",
   "metadata": {},
   "outputs": [],
   "source": [
    "df = pd.read_csv(r\"C:\\Users\\Suddala Vaishnavi\\Downloads\\mental health condition\\project1.csv\")"
   ]
  },
  {
   "cell_type": "code",
   "execution_count": 3,
   "id": "7e21829d-9b75-4fc9-b96f-1cb2ccd22a2f",
   "metadata": {},
   "outputs": [
    {
     "data": {
      "text/html": [
       "<div>\n",
       "<style scoped>\n",
       "    .dataframe tbody tr th:only-of-type {\n",
       "        vertical-align: middle;\n",
       "    }\n",
       "\n",
       "    .dataframe tbody tr th {\n",
       "        vertical-align: top;\n",
       "    }\n",
       "\n",
       "    .dataframe thead th {\n",
       "        text-align: right;\n",
       "    }\n",
       "</style>\n",
       "<table border=\"1\" class=\"dataframe\">\n",
       "  <thead>\n",
       "    <tr style=\"text-align: right;\">\n",
       "      <th></th>\n",
       "      <th>Unnamed: 0</th>\n",
       "      <th>id</th>\n",
       "      <th>Name</th>\n",
       "      <th>Gender</th>\n",
       "      <th>Age</th>\n",
       "      <th>City</th>\n",
       "      <th>Working Professional or Student</th>\n",
       "      <th>Profession</th>\n",
       "      <th>Work Pressure</th>\n",
       "      <th>Job Satisfaction</th>\n",
       "      <th>Sleep Duration</th>\n",
       "      <th>Dietary Habits</th>\n",
       "      <th>Degree</th>\n",
       "      <th>Suicidal thoughts</th>\n",
       "      <th>Work/Study Hours</th>\n",
       "      <th>Financial Stress</th>\n",
       "      <th>Family History of Mental Illness</th>\n",
       "    </tr>\n",
       "  </thead>\n",
       "  <tbody>\n",
       "    <tr>\n",
       "      <th>0</th>\n",
       "      <td>0</td>\n",
       "      <td>140700</td>\n",
       "      <td>Shivam</td>\n",
       "      <td>Male</td>\n",
       "      <td>53.0</td>\n",
       "      <td>Visakhapatnam</td>\n",
       "      <td>Working Professional</td>\n",
       "      <td>Judge</td>\n",
       "      <td>2.0</td>\n",
       "      <td>5.0</td>\n",
       "      <td>Less than 5 hours</td>\n",
       "      <td>Moderate</td>\n",
       "      <td>LLB</td>\n",
       "      <td>No</td>\n",
       "      <td>9.0</td>\n",
       "      <td>3.0</td>\n",
       "      <td>Yes</td>\n",
       "    </tr>\n",
       "    <tr>\n",
       "      <th>1</th>\n",
       "      <td>1</td>\n",
       "      <td>140701</td>\n",
       "      <td>Sanya</td>\n",
       "      <td>Female</td>\n",
       "      <td>58.0</td>\n",
       "      <td>Kolkata</td>\n",
       "      <td>Working Professional</td>\n",
       "      <td>Educational Consultant</td>\n",
       "      <td>2.0</td>\n",
       "      <td>4.0</td>\n",
       "      <td>Less than 5 hours</td>\n",
       "      <td>Moderate</td>\n",
       "      <td>B.Ed</td>\n",
       "      <td>No</td>\n",
       "      <td>6.0</td>\n",
       "      <td>4.0</td>\n",
       "      <td>No</td>\n",
       "    </tr>\n",
       "    <tr>\n",
       "      <th>2</th>\n",
       "      <td>2</td>\n",
       "      <td>140702</td>\n",
       "      <td>Yash</td>\n",
       "      <td>Male</td>\n",
       "      <td>53.0</td>\n",
       "      <td>Jaipur</td>\n",
       "      <td>Working Professional</td>\n",
       "      <td>Teacher</td>\n",
       "      <td>4.0</td>\n",
       "      <td>1.0</td>\n",
       "      <td>7-8 hours</td>\n",
       "      <td>Moderate</td>\n",
       "      <td>B.Arch</td>\n",
       "      <td>Yes</td>\n",
       "      <td>12.0</td>\n",
       "      <td>4.0</td>\n",
       "      <td>No</td>\n",
       "    </tr>\n",
       "    <tr>\n",
       "      <th>3</th>\n",
       "      <td>3</td>\n",
       "      <td>140703</td>\n",
       "      <td>Nalini</td>\n",
       "      <td>Female</td>\n",
       "      <td>23.0</td>\n",
       "      <td>Rajkot</td>\n",
       "      <td>Student</td>\n",
       "      <td>NaN</td>\n",
       "      <td>NaN</td>\n",
       "      <td>NaN</td>\n",
       "      <td>More than 8 hours</td>\n",
       "      <td>Moderate</td>\n",
       "      <td>BSc</td>\n",
       "      <td>Yes</td>\n",
       "      <td>10.0</td>\n",
       "      <td>4.0</td>\n",
       "      <td>No</td>\n",
       "    </tr>\n",
       "    <tr>\n",
       "      <th>4</th>\n",
       "      <td>4</td>\n",
       "      <td>140704</td>\n",
       "      <td>Shaurya</td>\n",
       "      <td>Male</td>\n",
       "      <td>47.0</td>\n",
       "      <td>Kalyan</td>\n",
       "      <td>Working Professional</td>\n",
       "      <td>Teacher</td>\n",
       "      <td>5.0</td>\n",
       "      <td>5.0</td>\n",
       "      <td>7-8 hours</td>\n",
       "      <td>Moderate</td>\n",
       "      <td>BCA</td>\n",
       "      <td>Yes</td>\n",
       "      <td>3.0</td>\n",
       "      <td>4.0</td>\n",
       "      <td>No</td>\n",
       "    </tr>\n",
       "    <tr>\n",
       "      <th>...</th>\n",
       "      <td>...</td>\n",
       "      <td>...</td>\n",
       "      <td>...</td>\n",
       "      <td>...</td>\n",
       "      <td>...</td>\n",
       "      <td>...</td>\n",
       "      <td>...</td>\n",
       "      <td>...</td>\n",
       "      <td>...</td>\n",
       "      <td>...</td>\n",
       "      <td>...</td>\n",
       "      <td>...</td>\n",
       "      <td>...</td>\n",
       "      <td>...</td>\n",
       "      <td>...</td>\n",
       "      <td>...</td>\n",
       "      <td>...</td>\n",
       "    </tr>\n",
       "    <tr>\n",
       "      <th>93795</th>\n",
       "      <td>93795</td>\n",
       "      <td>234495</td>\n",
       "      <td>Zoya</td>\n",
       "      <td>Female</td>\n",
       "      <td>49.0</td>\n",
       "      <td>Jaipur</td>\n",
       "      <td>Working Professional</td>\n",
       "      <td>Pilot</td>\n",
       "      <td>3.0</td>\n",
       "      <td>5.0</td>\n",
       "      <td>Less than 5 hours</td>\n",
       "      <td>Moderate</td>\n",
       "      <td>BSc</td>\n",
       "      <td>Yes</td>\n",
       "      <td>2.0</td>\n",
       "      <td>2.0</td>\n",
       "      <td>Yes</td>\n",
       "    </tr>\n",
       "    <tr>\n",
       "      <th>93796</th>\n",
       "      <td>93796</td>\n",
       "      <td>234496</td>\n",
       "      <td>Shlok</td>\n",
       "      <td>Male</td>\n",
       "      <td>29.0</td>\n",
       "      <td>Ahmedabad</td>\n",
       "      <td>Working Professional</td>\n",
       "      <td>Pilot</td>\n",
       "      <td>5.0</td>\n",
       "      <td>1.0</td>\n",
       "      <td>7-8 hours</td>\n",
       "      <td>Moderate</td>\n",
       "      <td>BE</td>\n",
       "      <td>Yes</td>\n",
       "      <td>11.0</td>\n",
       "      <td>3.0</td>\n",
       "      <td>Yes</td>\n",
       "    </tr>\n",
       "    <tr>\n",
       "      <th>93797</th>\n",
       "      <td>93797</td>\n",
       "      <td>234497</td>\n",
       "      <td>Rishi</td>\n",
       "      <td>Male</td>\n",
       "      <td>24.0</td>\n",
       "      <td>Visakhapatnam</td>\n",
       "      <td>Student</td>\n",
       "      <td>NaN</td>\n",
       "      <td>NaN</td>\n",
       "      <td>NaN</td>\n",
       "      <td>7-8 hours</td>\n",
       "      <td>Moderate</td>\n",
       "      <td>B.Tech</td>\n",
       "      <td>No</td>\n",
       "      <td>7.0</td>\n",
       "      <td>1.0</td>\n",
       "      <td>No</td>\n",
       "    </tr>\n",
       "    <tr>\n",
       "      <th>93798</th>\n",
       "      <td>93798</td>\n",
       "      <td>234498</td>\n",
       "      <td>Eshita</td>\n",
       "      <td>Female</td>\n",
       "      <td>23.0</td>\n",
       "      <td>Kalyan</td>\n",
       "      <td>Working Professional</td>\n",
       "      <td>Marketing Manager</td>\n",
       "      <td>4.0</td>\n",
       "      <td>2.0</td>\n",
       "      <td>5-6 hours</td>\n",
       "      <td>Healthy</td>\n",
       "      <td>BA</td>\n",
       "      <td>Yes</td>\n",
       "      <td>7.0</td>\n",
       "      <td>5.0</td>\n",
       "      <td>Yes</td>\n",
       "    </tr>\n",
       "    <tr>\n",
       "      <th>93799</th>\n",
       "      <td>93799</td>\n",
       "      <td>234499</td>\n",
       "      <td>Gauri</td>\n",
       "      <td>Female</td>\n",
       "      <td>43.0</td>\n",
       "      <td>Varanasi</td>\n",
       "      <td>Working Professional</td>\n",
       "      <td>Educational Consultant</td>\n",
       "      <td>5.0</td>\n",
       "      <td>2.0</td>\n",
       "      <td>More than 8 hours</td>\n",
       "      <td>Healthy</td>\n",
       "      <td>B.Ed</td>\n",
       "      <td>No</td>\n",
       "      <td>11.0</td>\n",
       "      <td>2.0</td>\n",
       "      <td>No</td>\n",
       "    </tr>\n",
       "  </tbody>\n",
       "</table>\n",
       "<p>93800 rows × 17 columns</p>\n",
       "</div>"
      ],
      "text/plain": [
       "       Unnamed: 0      id     Name  Gender   Age           City  \\\n",
       "0               0  140700   Shivam    Male  53.0  Visakhapatnam   \n",
       "1               1  140701    Sanya  Female  58.0        Kolkata   \n",
       "2               2  140702     Yash    Male  53.0         Jaipur   \n",
       "3               3  140703   Nalini  Female  23.0         Rajkot   \n",
       "4               4  140704  Shaurya    Male  47.0         Kalyan   \n",
       "...           ...     ...      ...     ...   ...            ...   \n",
       "93795       93795  234495     Zoya  Female  49.0         Jaipur   \n",
       "93796       93796  234496    Shlok    Male  29.0      Ahmedabad   \n",
       "93797       93797  234497    Rishi    Male  24.0  Visakhapatnam   \n",
       "93798       93798  234498   Eshita  Female  23.0         Kalyan   \n",
       "93799       93799  234499    Gauri  Female  43.0       Varanasi   \n",
       "\n",
       "      Working Professional or Student              Profession  Work Pressure  \\\n",
       "0                Working Professional                   Judge            2.0   \n",
       "1                Working Professional  Educational Consultant            2.0   \n",
       "2                Working Professional                 Teacher            4.0   \n",
       "3                             Student                     NaN            NaN   \n",
       "4                Working Professional                 Teacher            5.0   \n",
       "...                               ...                     ...            ...   \n",
       "93795            Working Professional                   Pilot            3.0   \n",
       "93796            Working Professional                   Pilot            5.0   \n",
       "93797                         Student                     NaN            NaN   \n",
       "93798            Working Professional       Marketing Manager            4.0   \n",
       "93799            Working Professional  Educational Consultant            5.0   \n",
       "\n",
       "       Job Satisfaction     Sleep Duration Dietary Habits  Degree  \\\n",
       "0                   5.0  Less than 5 hours       Moderate     LLB   \n",
       "1                   4.0  Less than 5 hours       Moderate    B.Ed   \n",
       "2                   1.0          7-8 hours       Moderate  B.Arch   \n",
       "3                   NaN  More than 8 hours       Moderate     BSc   \n",
       "4                   5.0          7-8 hours       Moderate     BCA   \n",
       "...                 ...                ...            ...     ...   \n",
       "93795               5.0  Less than 5 hours       Moderate     BSc   \n",
       "93796               1.0          7-8 hours       Moderate      BE   \n",
       "93797               NaN          7-8 hours       Moderate  B.Tech   \n",
       "93798               2.0          5-6 hours        Healthy      BA   \n",
       "93799               2.0  More than 8 hours        Healthy    B.Ed   \n",
       "\n",
       "      Suicidal thoughts  Work/Study Hours  Financial Stress  \\\n",
       "0                    No               9.0               3.0   \n",
       "1                    No               6.0               4.0   \n",
       "2                   Yes              12.0               4.0   \n",
       "3                   Yes              10.0               4.0   \n",
       "4                   Yes               3.0               4.0   \n",
       "...                 ...               ...               ...   \n",
       "93795               Yes               2.0               2.0   \n",
       "93796               Yes              11.0               3.0   \n",
       "93797                No               7.0               1.0   \n",
       "93798               Yes               7.0               5.0   \n",
       "93799                No              11.0               2.0   \n",
       "\n",
       "      Family History of Mental Illness  \n",
       "0                                  Yes  \n",
       "1                                   No  \n",
       "2                                   No  \n",
       "3                                   No  \n",
       "4                                   No  \n",
       "...                                ...  \n",
       "93795                              Yes  \n",
       "93796                              Yes  \n",
       "93797                               No  \n",
       "93798                              Yes  \n",
       "93799                               No  \n",
       "\n",
       "[93800 rows x 17 columns]"
      ]
     },
     "execution_count": 3,
     "metadata": {},
     "output_type": "execute_result"
    }
   ],
   "source": [
    "df"
   ]
  },
  {
   "cell_type": "code",
   "execution_count": 4,
   "id": "04d92cc7-a7f1-4013-8dbe-3cfaa22b5a87",
   "metadata": {},
   "outputs": [],
   "source": [
    "df.drop([\"Unnamed: 0\"],axis=1,inplace=True)"
   ]
  },
  {
   "cell_type": "code",
   "execution_count": 5,
   "id": "fa22687b-2828-4863-9cbf-2d08e8dcec9c",
   "metadata": {},
   "outputs": [
    {
     "data": {
      "text/html": [
       "<div>\n",
       "<style scoped>\n",
       "    .dataframe tbody tr th:only-of-type {\n",
       "        vertical-align: middle;\n",
       "    }\n",
       "\n",
       "    .dataframe tbody tr th {\n",
       "        vertical-align: top;\n",
       "    }\n",
       "\n",
       "    .dataframe thead th {\n",
       "        text-align: right;\n",
       "    }\n",
       "</style>\n",
       "<table border=\"1\" class=\"dataframe\">\n",
       "  <thead>\n",
       "    <tr style=\"text-align: right;\">\n",
       "      <th></th>\n",
       "      <th>id</th>\n",
       "      <th>Name</th>\n",
       "      <th>Gender</th>\n",
       "      <th>Age</th>\n",
       "      <th>City</th>\n",
       "      <th>Working Professional or Student</th>\n",
       "      <th>Profession</th>\n",
       "      <th>Work Pressure</th>\n",
       "      <th>Job Satisfaction</th>\n",
       "      <th>Sleep Duration</th>\n",
       "      <th>Dietary Habits</th>\n",
       "      <th>Degree</th>\n",
       "      <th>Suicidal thoughts</th>\n",
       "      <th>Work/Study Hours</th>\n",
       "      <th>Financial Stress</th>\n",
       "      <th>Family History of Mental Illness</th>\n",
       "    </tr>\n",
       "  </thead>\n",
       "  <tbody>\n",
       "    <tr>\n",
       "      <th>0</th>\n",
       "      <td>140700</td>\n",
       "      <td>Shivam</td>\n",
       "      <td>Male</td>\n",
       "      <td>53.0</td>\n",
       "      <td>Visakhapatnam</td>\n",
       "      <td>Working Professional</td>\n",
       "      <td>Judge</td>\n",
       "      <td>2.0</td>\n",
       "      <td>5.0</td>\n",
       "      <td>Less than 5 hours</td>\n",
       "      <td>Moderate</td>\n",
       "      <td>LLB</td>\n",
       "      <td>No</td>\n",
       "      <td>9.0</td>\n",
       "      <td>3.0</td>\n",
       "      <td>Yes</td>\n",
       "    </tr>\n",
       "    <tr>\n",
       "      <th>1</th>\n",
       "      <td>140701</td>\n",
       "      <td>Sanya</td>\n",
       "      <td>Female</td>\n",
       "      <td>58.0</td>\n",
       "      <td>Kolkata</td>\n",
       "      <td>Working Professional</td>\n",
       "      <td>Educational Consultant</td>\n",
       "      <td>2.0</td>\n",
       "      <td>4.0</td>\n",
       "      <td>Less than 5 hours</td>\n",
       "      <td>Moderate</td>\n",
       "      <td>B.Ed</td>\n",
       "      <td>No</td>\n",
       "      <td>6.0</td>\n",
       "      <td>4.0</td>\n",
       "      <td>No</td>\n",
       "    </tr>\n",
       "    <tr>\n",
       "      <th>2</th>\n",
       "      <td>140702</td>\n",
       "      <td>Yash</td>\n",
       "      <td>Male</td>\n",
       "      <td>53.0</td>\n",
       "      <td>Jaipur</td>\n",
       "      <td>Working Professional</td>\n",
       "      <td>Teacher</td>\n",
       "      <td>4.0</td>\n",
       "      <td>1.0</td>\n",
       "      <td>7-8 hours</td>\n",
       "      <td>Moderate</td>\n",
       "      <td>B.Arch</td>\n",
       "      <td>Yes</td>\n",
       "      <td>12.0</td>\n",
       "      <td>4.0</td>\n",
       "      <td>No</td>\n",
       "    </tr>\n",
       "    <tr>\n",
       "      <th>3</th>\n",
       "      <td>140703</td>\n",
       "      <td>Nalini</td>\n",
       "      <td>Female</td>\n",
       "      <td>23.0</td>\n",
       "      <td>Rajkot</td>\n",
       "      <td>Student</td>\n",
       "      <td>NaN</td>\n",
       "      <td>NaN</td>\n",
       "      <td>NaN</td>\n",
       "      <td>More than 8 hours</td>\n",
       "      <td>Moderate</td>\n",
       "      <td>BSc</td>\n",
       "      <td>Yes</td>\n",
       "      <td>10.0</td>\n",
       "      <td>4.0</td>\n",
       "      <td>No</td>\n",
       "    </tr>\n",
       "    <tr>\n",
       "      <th>4</th>\n",
       "      <td>140704</td>\n",
       "      <td>Shaurya</td>\n",
       "      <td>Male</td>\n",
       "      <td>47.0</td>\n",
       "      <td>Kalyan</td>\n",
       "      <td>Working Professional</td>\n",
       "      <td>Teacher</td>\n",
       "      <td>5.0</td>\n",
       "      <td>5.0</td>\n",
       "      <td>7-8 hours</td>\n",
       "      <td>Moderate</td>\n",
       "      <td>BCA</td>\n",
       "      <td>Yes</td>\n",
       "      <td>3.0</td>\n",
       "      <td>4.0</td>\n",
       "      <td>No</td>\n",
       "    </tr>\n",
       "    <tr>\n",
       "      <th>...</th>\n",
       "      <td>...</td>\n",
       "      <td>...</td>\n",
       "      <td>...</td>\n",
       "      <td>...</td>\n",
       "      <td>...</td>\n",
       "      <td>...</td>\n",
       "      <td>...</td>\n",
       "      <td>...</td>\n",
       "      <td>...</td>\n",
       "      <td>...</td>\n",
       "      <td>...</td>\n",
       "      <td>...</td>\n",
       "      <td>...</td>\n",
       "      <td>...</td>\n",
       "      <td>...</td>\n",
       "      <td>...</td>\n",
       "    </tr>\n",
       "    <tr>\n",
       "      <th>93795</th>\n",
       "      <td>234495</td>\n",
       "      <td>Zoya</td>\n",
       "      <td>Female</td>\n",
       "      <td>49.0</td>\n",
       "      <td>Jaipur</td>\n",
       "      <td>Working Professional</td>\n",
       "      <td>Pilot</td>\n",
       "      <td>3.0</td>\n",
       "      <td>5.0</td>\n",
       "      <td>Less than 5 hours</td>\n",
       "      <td>Moderate</td>\n",
       "      <td>BSc</td>\n",
       "      <td>Yes</td>\n",
       "      <td>2.0</td>\n",
       "      <td>2.0</td>\n",
       "      <td>Yes</td>\n",
       "    </tr>\n",
       "    <tr>\n",
       "      <th>93796</th>\n",
       "      <td>234496</td>\n",
       "      <td>Shlok</td>\n",
       "      <td>Male</td>\n",
       "      <td>29.0</td>\n",
       "      <td>Ahmedabad</td>\n",
       "      <td>Working Professional</td>\n",
       "      <td>Pilot</td>\n",
       "      <td>5.0</td>\n",
       "      <td>1.0</td>\n",
       "      <td>7-8 hours</td>\n",
       "      <td>Moderate</td>\n",
       "      <td>BE</td>\n",
       "      <td>Yes</td>\n",
       "      <td>11.0</td>\n",
       "      <td>3.0</td>\n",
       "      <td>Yes</td>\n",
       "    </tr>\n",
       "    <tr>\n",
       "      <th>93797</th>\n",
       "      <td>234497</td>\n",
       "      <td>Rishi</td>\n",
       "      <td>Male</td>\n",
       "      <td>24.0</td>\n",
       "      <td>Visakhapatnam</td>\n",
       "      <td>Student</td>\n",
       "      <td>NaN</td>\n",
       "      <td>NaN</td>\n",
       "      <td>NaN</td>\n",
       "      <td>7-8 hours</td>\n",
       "      <td>Moderate</td>\n",
       "      <td>B.Tech</td>\n",
       "      <td>No</td>\n",
       "      <td>7.0</td>\n",
       "      <td>1.0</td>\n",
       "      <td>No</td>\n",
       "    </tr>\n",
       "    <tr>\n",
       "      <th>93798</th>\n",
       "      <td>234498</td>\n",
       "      <td>Eshita</td>\n",
       "      <td>Female</td>\n",
       "      <td>23.0</td>\n",
       "      <td>Kalyan</td>\n",
       "      <td>Working Professional</td>\n",
       "      <td>Marketing Manager</td>\n",
       "      <td>4.0</td>\n",
       "      <td>2.0</td>\n",
       "      <td>5-6 hours</td>\n",
       "      <td>Healthy</td>\n",
       "      <td>BA</td>\n",
       "      <td>Yes</td>\n",
       "      <td>7.0</td>\n",
       "      <td>5.0</td>\n",
       "      <td>Yes</td>\n",
       "    </tr>\n",
       "    <tr>\n",
       "      <th>93799</th>\n",
       "      <td>234499</td>\n",
       "      <td>Gauri</td>\n",
       "      <td>Female</td>\n",
       "      <td>43.0</td>\n",
       "      <td>Varanasi</td>\n",
       "      <td>Working Professional</td>\n",
       "      <td>Educational Consultant</td>\n",
       "      <td>5.0</td>\n",
       "      <td>2.0</td>\n",
       "      <td>More than 8 hours</td>\n",
       "      <td>Healthy</td>\n",
       "      <td>B.Ed</td>\n",
       "      <td>No</td>\n",
       "      <td>11.0</td>\n",
       "      <td>2.0</td>\n",
       "      <td>No</td>\n",
       "    </tr>\n",
       "  </tbody>\n",
       "</table>\n",
       "<p>93800 rows × 16 columns</p>\n",
       "</div>"
      ],
      "text/plain": [
       "           id     Name  Gender   Age           City  \\\n",
       "0      140700   Shivam    Male  53.0  Visakhapatnam   \n",
       "1      140701    Sanya  Female  58.0        Kolkata   \n",
       "2      140702     Yash    Male  53.0         Jaipur   \n",
       "3      140703   Nalini  Female  23.0         Rajkot   \n",
       "4      140704  Shaurya    Male  47.0         Kalyan   \n",
       "...       ...      ...     ...   ...            ...   \n",
       "93795  234495     Zoya  Female  49.0         Jaipur   \n",
       "93796  234496    Shlok    Male  29.0      Ahmedabad   \n",
       "93797  234497    Rishi    Male  24.0  Visakhapatnam   \n",
       "93798  234498   Eshita  Female  23.0         Kalyan   \n",
       "93799  234499    Gauri  Female  43.0       Varanasi   \n",
       "\n",
       "      Working Professional or Student              Profession  Work Pressure  \\\n",
       "0                Working Professional                   Judge            2.0   \n",
       "1                Working Professional  Educational Consultant            2.0   \n",
       "2                Working Professional                 Teacher            4.0   \n",
       "3                             Student                     NaN            NaN   \n",
       "4                Working Professional                 Teacher            5.0   \n",
       "...                               ...                     ...            ...   \n",
       "93795            Working Professional                   Pilot            3.0   \n",
       "93796            Working Professional                   Pilot            5.0   \n",
       "93797                         Student                     NaN            NaN   \n",
       "93798            Working Professional       Marketing Manager            4.0   \n",
       "93799            Working Professional  Educational Consultant            5.0   \n",
       "\n",
       "       Job Satisfaction     Sleep Duration Dietary Habits  Degree  \\\n",
       "0                   5.0  Less than 5 hours       Moderate     LLB   \n",
       "1                   4.0  Less than 5 hours       Moderate    B.Ed   \n",
       "2                   1.0          7-8 hours       Moderate  B.Arch   \n",
       "3                   NaN  More than 8 hours       Moderate     BSc   \n",
       "4                   5.0          7-8 hours       Moderate     BCA   \n",
       "...                 ...                ...            ...     ...   \n",
       "93795               5.0  Less than 5 hours       Moderate     BSc   \n",
       "93796               1.0          7-8 hours       Moderate      BE   \n",
       "93797               NaN          7-8 hours       Moderate  B.Tech   \n",
       "93798               2.0          5-6 hours        Healthy      BA   \n",
       "93799               2.0  More than 8 hours        Healthy    B.Ed   \n",
       "\n",
       "      Suicidal thoughts  Work/Study Hours  Financial Stress  \\\n",
       "0                    No               9.0               3.0   \n",
       "1                    No               6.0               4.0   \n",
       "2                   Yes              12.0               4.0   \n",
       "3                   Yes              10.0               4.0   \n",
       "4                   Yes               3.0               4.0   \n",
       "...                 ...               ...               ...   \n",
       "93795               Yes               2.0               2.0   \n",
       "93796               Yes              11.0               3.0   \n",
       "93797                No               7.0               1.0   \n",
       "93798               Yes               7.0               5.0   \n",
       "93799                No              11.0               2.0   \n",
       "\n",
       "      Family History of Mental Illness  \n",
       "0                                  Yes  \n",
       "1                                   No  \n",
       "2                                   No  \n",
       "3                                   No  \n",
       "4                                   No  \n",
       "...                                ...  \n",
       "93795                              Yes  \n",
       "93796                              Yes  \n",
       "93797                               No  \n",
       "93798                              Yes  \n",
       "93799                               No  \n",
       "\n",
       "[93800 rows x 16 columns]"
      ]
     },
     "execution_count": 5,
     "metadata": {},
     "output_type": "execute_result"
    }
   ],
   "source": [
    "df"
   ]
  },
  {
   "cell_type": "markdown",
   "id": "d08cadfb-e182-457a-9d0f-20110413fe7b",
   "metadata": {},
   "source": [
    "# Observation:\n",
    "- Dataset has been loaded succesfully using pd.read_csv()"
   ]
  },
  {
   "cell_type": "markdown",
   "id": "a476f8c3-490e-4f5a-9bec-c4c2cb89c5f8",
   "metadata": {},
   "source": [
    "# Understanding the structure of the Dataset"
   ]
  },
  {
   "cell_type": "code",
   "execution_count": 6,
   "id": "4c29b104-9e86-4355-9af7-42d07b13aafd",
   "metadata": {},
   "outputs": [
    {
     "data": {
      "text/plain": [
       "(93800, 16)"
      ]
     },
     "execution_count": 6,
     "metadata": {},
     "output_type": "execute_result"
    }
   ],
   "source": [
    "df.shape"
   ]
  },
  {
   "cell_type": "markdown",
   "id": "b606cc4e-04b1-499b-ac18-dfad8b745160",
   "metadata": {},
   "source": [
    "# Obesrvation:\n",
    "- The dataset contains 93800 rows and 16 columns which representing  students mental health conditions."
   ]
  },
  {
   "cell_type": "markdown",
   "id": "7598c8f1-f196-4f08-a220-e31960e3fe3b",
   "metadata": {},
   "source": [
    "# Previewing the first few rows"
   ]
  },
  {
   "cell_type": "code",
   "execution_count": 7,
   "id": "5b61692a-4720-4289-9062-7d2a0857ac64",
   "metadata": {},
   "outputs": [
    {
     "data": {
      "text/html": [
       "<div>\n",
       "<style scoped>\n",
       "    .dataframe tbody tr th:only-of-type {\n",
       "        vertical-align: middle;\n",
       "    }\n",
       "\n",
       "    .dataframe tbody tr th {\n",
       "        vertical-align: top;\n",
       "    }\n",
       "\n",
       "    .dataframe thead th {\n",
       "        text-align: right;\n",
       "    }\n",
       "</style>\n",
       "<table border=\"1\" class=\"dataframe\">\n",
       "  <thead>\n",
       "    <tr style=\"text-align: right;\">\n",
       "      <th></th>\n",
       "      <th>id</th>\n",
       "      <th>Name</th>\n",
       "      <th>Gender</th>\n",
       "      <th>Age</th>\n",
       "      <th>City</th>\n",
       "      <th>Working Professional or Student</th>\n",
       "      <th>Profession</th>\n",
       "      <th>Work Pressure</th>\n",
       "      <th>Job Satisfaction</th>\n",
       "      <th>Sleep Duration</th>\n",
       "      <th>Dietary Habits</th>\n",
       "      <th>Degree</th>\n",
       "      <th>Suicidal thoughts</th>\n",
       "      <th>Work/Study Hours</th>\n",
       "      <th>Financial Stress</th>\n",
       "      <th>Family History of Mental Illness</th>\n",
       "    </tr>\n",
       "  </thead>\n",
       "  <tbody>\n",
       "    <tr>\n",
       "      <th>0</th>\n",
       "      <td>140700</td>\n",
       "      <td>Shivam</td>\n",
       "      <td>Male</td>\n",
       "      <td>53.0</td>\n",
       "      <td>Visakhapatnam</td>\n",
       "      <td>Working Professional</td>\n",
       "      <td>Judge</td>\n",
       "      <td>2.0</td>\n",
       "      <td>5.0</td>\n",
       "      <td>Less than 5 hours</td>\n",
       "      <td>Moderate</td>\n",
       "      <td>LLB</td>\n",
       "      <td>No</td>\n",
       "      <td>9.0</td>\n",
       "      <td>3.0</td>\n",
       "      <td>Yes</td>\n",
       "    </tr>\n",
       "    <tr>\n",
       "      <th>1</th>\n",
       "      <td>140701</td>\n",
       "      <td>Sanya</td>\n",
       "      <td>Female</td>\n",
       "      <td>58.0</td>\n",
       "      <td>Kolkata</td>\n",
       "      <td>Working Professional</td>\n",
       "      <td>Educational Consultant</td>\n",
       "      <td>2.0</td>\n",
       "      <td>4.0</td>\n",
       "      <td>Less than 5 hours</td>\n",
       "      <td>Moderate</td>\n",
       "      <td>B.Ed</td>\n",
       "      <td>No</td>\n",
       "      <td>6.0</td>\n",
       "      <td>4.0</td>\n",
       "      <td>No</td>\n",
       "    </tr>\n",
       "    <tr>\n",
       "      <th>2</th>\n",
       "      <td>140702</td>\n",
       "      <td>Yash</td>\n",
       "      <td>Male</td>\n",
       "      <td>53.0</td>\n",
       "      <td>Jaipur</td>\n",
       "      <td>Working Professional</td>\n",
       "      <td>Teacher</td>\n",
       "      <td>4.0</td>\n",
       "      <td>1.0</td>\n",
       "      <td>7-8 hours</td>\n",
       "      <td>Moderate</td>\n",
       "      <td>B.Arch</td>\n",
       "      <td>Yes</td>\n",
       "      <td>12.0</td>\n",
       "      <td>4.0</td>\n",
       "      <td>No</td>\n",
       "    </tr>\n",
       "    <tr>\n",
       "      <th>3</th>\n",
       "      <td>140703</td>\n",
       "      <td>Nalini</td>\n",
       "      <td>Female</td>\n",
       "      <td>23.0</td>\n",
       "      <td>Rajkot</td>\n",
       "      <td>Student</td>\n",
       "      <td>NaN</td>\n",
       "      <td>NaN</td>\n",
       "      <td>NaN</td>\n",
       "      <td>More than 8 hours</td>\n",
       "      <td>Moderate</td>\n",
       "      <td>BSc</td>\n",
       "      <td>Yes</td>\n",
       "      <td>10.0</td>\n",
       "      <td>4.0</td>\n",
       "      <td>No</td>\n",
       "    </tr>\n",
       "    <tr>\n",
       "      <th>4</th>\n",
       "      <td>140704</td>\n",
       "      <td>Shaurya</td>\n",
       "      <td>Male</td>\n",
       "      <td>47.0</td>\n",
       "      <td>Kalyan</td>\n",
       "      <td>Working Professional</td>\n",
       "      <td>Teacher</td>\n",
       "      <td>5.0</td>\n",
       "      <td>5.0</td>\n",
       "      <td>7-8 hours</td>\n",
       "      <td>Moderate</td>\n",
       "      <td>BCA</td>\n",
       "      <td>Yes</td>\n",
       "      <td>3.0</td>\n",
       "      <td>4.0</td>\n",
       "      <td>No</td>\n",
       "    </tr>\n",
       "  </tbody>\n",
       "</table>\n",
       "</div>"
      ],
      "text/plain": [
       "       id     Name  Gender   Age           City  \\\n",
       "0  140700   Shivam    Male  53.0  Visakhapatnam   \n",
       "1  140701    Sanya  Female  58.0        Kolkata   \n",
       "2  140702     Yash    Male  53.0         Jaipur   \n",
       "3  140703   Nalini  Female  23.0         Rajkot   \n",
       "4  140704  Shaurya    Male  47.0         Kalyan   \n",
       "\n",
       "  Working Professional or Student              Profession  Work Pressure  \\\n",
       "0            Working Professional                   Judge            2.0   \n",
       "1            Working Professional  Educational Consultant            2.0   \n",
       "2            Working Professional                 Teacher            4.0   \n",
       "3                         Student                     NaN            NaN   \n",
       "4            Working Professional                 Teacher            5.0   \n",
       "\n",
       "   Job Satisfaction     Sleep Duration Dietary Habits  Degree  \\\n",
       "0               5.0  Less than 5 hours       Moderate     LLB   \n",
       "1               4.0  Less than 5 hours       Moderate    B.Ed   \n",
       "2               1.0          7-8 hours       Moderate  B.Arch   \n",
       "3               NaN  More than 8 hours       Moderate     BSc   \n",
       "4               5.0          7-8 hours       Moderate     BCA   \n",
       "\n",
       "  Suicidal thoughts  Work/Study Hours  Financial Stress  \\\n",
       "0                No               9.0               3.0   \n",
       "1                No               6.0               4.0   \n",
       "2               Yes              12.0               4.0   \n",
       "3               Yes              10.0               4.0   \n",
       "4               Yes               3.0               4.0   \n",
       "\n",
       "  Family History of Mental Illness  \n",
       "0                              Yes  \n",
       "1                               No  \n",
       "2                               No  \n",
       "3                               No  \n",
       "4                               No  "
      ]
     },
     "execution_count": 7,
     "metadata": {},
     "output_type": "execute_result"
    }
   ],
   "source": [
    "df.head()"
   ]
  },
  {
   "cell_type": "markdown",
   "id": "acb862cc-98fb-4cb2-afda-8b6c8bb5f6f9",
   "metadata": {},
   "source": [
    "# Observation:\n",
    "- The preview shows the first few rows of the data and helps us check if the file loaded correctly."
   ]
  },
  {
   "cell_type": "markdown",
   "id": "c155be8e-defe-4c37-b34f-c2f1d86939bb",
   "metadata": {},
   "source": [
    "# Dataset Structure and Data Types"
   ]
  },
  {
   "cell_type": "code",
   "execution_count": 8,
   "id": "cea00973-4dcc-4274-af25-9393092d04c2",
   "metadata": {},
   "outputs": [
    {
     "name": "stdout",
     "output_type": "stream",
     "text": [
      "<class 'pandas.core.frame.DataFrame'>\n",
      "RangeIndex: 93800 entries, 0 to 93799\n",
      "Data columns (total 16 columns):\n",
      " #   Column                            Non-Null Count  Dtype  \n",
      "---  ------                            --------------  -----  \n",
      " 0   id                                93800 non-null  int64  \n",
      " 1   Name                              93800 non-null  object \n",
      " 2   Gender                            93800 non-null  object \n",
      " 3   Age                               93800 non-null  float64\n",
      " 4   City                              93800 non-null  object \n",
      " 5   Working Professional or Student   93800 non-null  object \n",
      " 6   Profession                        69168 non-null  object \n",
      " 7   Work Pressure                     75022 non-null  float64\n",
      " 8   Job Satisfaction                  75026 non-null  float64\n",
      " 9   Sleep Duration                    93800 non-null  object \n",
      " 10  Dietary Habits                    93795 non-null  object \n",
      " 11  Degree                            93798 non-null  object \n",
      " 12  Suicidal thoughts                 93800 non-null  object \n",
      " 13  Work/Study Hours                  93800 non-null  float64\n",
      " 14  Financial Stress                  93800 non-null  float64\n",
      " 15  Family History of Mental Illness  93800 non-null  object \n",
      "dtypes: float64(5), int64(1), object(10)\n",
      "memory usage: 11.5+ MB\n"
     ]
    }
   ],
   "source": [
    "df.info()"
   ]
  },
  {
   "cell_type": "markdown",
   "id": "c7f97f92-a6a6-4a3a-99a3-fcd3f9123b79",
   "metadata": {},
   "source": [
    "# Observation:\n",
    "- The dataset contains 93800 records and 16 columns.\n",
    "- Out of the 19 columns\n",
    "          - 6 are numerical (int64/float64).\n",
    "          - 10 are categorical(object type).\n",
    "- The dataset occupies approximatly 11.6"
   ]
  },
  {
   "cell_type": "markdown",
   "id": "78b0e5f0-184d-477a-8706-921f069c6c75",
   "metadata": {},
   "source": [
    "# Statistical Overview of Numerical Data"
   ]
  },
  {
   "cell_type": "code",
   "execution_count": 9,
   "id": "6d8ac67e-97ee-45f4-9b1a-4d35c0918467",
   "metadata": {},
   "outputs": [
    {
     "data": {
      "text/html": [
       "<div>\n",
       "<style scoped>\n",
       "    .dataframe tbody tr th:only-of-type {\n",
       "        vertical-align: middle;\n",
       "    }\n",
       "\n",
       "    .dataframe tbody tr th {\n",
       "        vertical-align: top;\n",
       "    }\n",
       "\n",
       "    .dataframe thead th {\n",
       "        text-align: right;\n",
       "    }\n",
       "</style>\n",
       "<table border=\"1\" class=\"dataframe\">\n",
       "  <thead>\n",
       "    <tr style=\"text-align: right;\">\n",
       "      <th></th>\n",
       "      <th>id</th>\n",
       "      <th>Age</th>\n",
       "      <th>Work Pressure</th>\n",
       "      <th>Job Satisfaction</th>\n",
       "      <th>Work/Study Hours</th>\n",
       "      <th>Financial Stress</th>\n",
       "    </tr>\n",
       "  </thead>\n",
       "  <tbody>\n",
       "    <tr>\n",
       "      <th>count</th>\n",
       "      <td>93800.000000</td>\n",
       "      <td>93800.000000</td>\n",
       "      <td>75022.000000</td>\n",
       "      <td>75026.00000</td>\n",
       "      <td>93800.000000</td>\n",
       "      <td>93800.000000</td>\n",
       "    </tr>\n",
       "    <tr>\n",
       "      <th>mean</th>\n",
       "      <td>187599.500000</td>\n",
       "      <td>40.321685</td>\n",
       "      <td>3.011797</td>\n",
       "      <td>2.96092</td>\n",
       "      <td>6.247335</td>\n",
       "      <td>2.978763</td>\n",
       "    </tr>\n",
       "    <tr>\n",
       "      <th>std</th>\n",
       "      <td>27077.871962</td>\n",
       "      <td>12.393480</td>\n",
       "      <td>1.403563</td>\n",
       "      <td>1.41071</td>\n",
       "      <td>3.858191</td>\n",
       "      <td>1.414604</td>\n",
       "    </tr>\n",
       "    <tr>\n",
       "      <th>min</th>\n",
       "      <td>140700.000000</td>\n",
       "      <td>18.000000</td>\n",
       "      <td>1.000000</td>\n",
       "      <td>1.00000</td>\n",
       "      <td>0.000000</td>\n",
       "      <td>1.000000</td>\n",
       "    </tr>\n",
       "    <tr>\n",
       "      <th>25%</th>\n",
       "      <td>164149.750000</td>\n",
       "      <td>29.000000</td>\n",
       "      <td>2.000000</td>\n",
       "      <td>2.00000</td>\n",
       "      <td>3.000000</td>\n",
       "      <td>2.000000</td>\n",
       "    </tr>\n",
       "    <tr>\n",
       "      <th>50%</th>\n",
       "      <td>187599.500000</td>\n",
       "      <td>42.000000</td>\n",
       "      <td>3.000000</td>\n",
       "      <td>3.00000</td>\n",
       "      <td>6.000000</td>\n",
       "      <td>3.000000</td>\n",
       "    </tr>\n",
       "    <tr>\n",
       "      <th>75%</th>\n",
       "      <td>211049.250000</td>\n",
       "      <td>51.000000</td>\n",
       "      <td>4.000000</td>\n",
       "      <td>4.00000</td>\n",
       "      <td>10.000000</td>\n",
       "      <td>4.000000</td>\n",
       "    </tr>\n",
       "    <tr>\n",
       "      <th>max</th>\n",
       "      <td>234499.000000</td>\n",
       "      <td>60.000000</td>\n",
       "      <td>5.000000</td>\n",
       "      <td>5.00000</td>\n",
       "      <td>12.000000</td>\n",
       "      <td>5.000000</td>\n",
       "    </tr>\n",
       "  </tbody>\n",
       "</table>\n",
       "</div>"
      ],
      "text/plain": [
       "                  id           Age  Work Pressure  Job Satisfaction  \\\n",
       "count   93800.000000  93800.000000   75022.000000       75026.00000   \n",
       "mean   187599.500000     40.321685       3.011797           2.96092   \n",
       "std     27077.871962     12.393480       1.403563           1.41071   \n",
       "min    140700.000000     18.000000       1.000000           1.00000   \n",
       "25%    164149.750000     29.000000       2.000000           2.00000   \n",
       "50%    187599.500000     42.000000       3.000000           3.00000   \n",
       "75%    211049.250000     51.000000       4.000000           4.00000   \n",
       "max    234499.000000     60.000000       5.000000           5.00000   \n",
       "\n",
       "       Work/Study Hours  Financial Stress  \n",
       "count      93800.000000      93800.000000  \n",
       "mean           6.247335          2.978763  \n",
       "std            3.858191          1.414604  \n",
       "min            0.000000          1.000000  \n",
       "25%            3.000000          2.000000  \n",
       "50%            6.000000          3.000000  \n",
       "75%           10.000000          4.000000  \n",
       "max           12.000000          5.000000  "
      ]
     },
     "execution_count": 9,
     "metadata": {},
     "output_type": "execute_result"
    }
   ],
   "source": [
    "df.describe()"
   ]
  },
  {
   "cell_type": "markdown",
   "id": "9576ed6e-150e-423e-88ec-14668148a2ea",
   "metadata": {},
   "source": [
    "# Obeservation:\n",
    "- The summary shows fundamental measures like mean,min,max, and standard deviation for all numerical columns.                                                                                  "
   ]
  },
  {
   "cell_type": "markdown",
   "id": "52362ad4-9442-4901-af14-f8ae0c8e20e1",
   "metadata": {},
   "source": [
    "# Statistical Overview of categorical Data"
   ]
  },
  {
   "cell_type": "code",
   "execution_count": 10,
   "id": "55803a63-d950-44ff-a0ec-251b7f0a59fe",
   "metadata": {},
   "outputs": [
    {
     "data": {
      "text/html": [
       "<div>\n",
       "<style scoped>\n",
       "    .dataframe tbody tr th:only-of-type {\n",
       "        vertical-align: middle;\n",
       "    }\n",
       "\n",
       "    .dataframe tbody tr th {\n",
       "        vertical-align: top;\n",
       "    }\n",
       "\n",
       "    .dataframe thead th {\n",
       "        text-align: right;\n",
       "    }\n",
       "</style>\n",
       "<table border=\"1\" class=\"dataframe\">\n",
       "  <thead>\n",
       "    <tr style=\"text-align: right;\">\n",
       "      <th></th>\n",
       "      <th>Name</th>\n",
       "      <th>Gender</th>\n",
       "      <th>City</th>\n",
       "      <th>Working Professional or Student</th>\n",
       "      <th>Profession</th>\n",
       "      <th>Sleep Duration</th>\n",
       "      <th>Dietary Habits</th>\n",
       "      <th>Degree</th>\n",
       "      <th>Suicidal thoughts</th>\n",
       "      <th>Family History of Mental Illness</th>\n",
       "    </tr>\n",
       "  </thead>\n",
       "  <tbody>\n",
       "    <tr>\n",
       "      <th>count</th>\n",
       "      <td>93800</td>\n",
       "      <td>93800</td>\n",
       "      <td>93800</td>\n",
       "      <td>93800</td>\n",
       "      <td>69168</td>\n",
       "      <td>93800</td>\n",
       "      <td>93795</td>\n",
       "      <td>93798</td>\n",
       "      <td>93800</td>\n",
       "      <td>93800</td>\n",
       "    </tr>\n",
       "    <tr>\n",
       "      <th>unique</th>\n",
       "      <td>374</td>\n",
       "      <td>2</td>\n",
       "      <td>68</td>\n",
       "      <td>2</td>\n",
       "      <td>64</td>\n",
       "      <td>31</td>\n",
       "      <td>22</td>\n",
       "      <td>87</td>\n",
       "      <td>2</td>\n",
       "      <td>2</td>\n",
       "    </tr>\n",
       "    <tr>\n",
       "      <th>top</th>\n",
       "      <td>Rohan</td>\n",
       "      <td>Male</td>\n",
       "      <td>Kalyan</td>\n",
       "      <td>Working Professional</td>\n",
       "      <td>Teacher</td>\n",
       "      <td>Less than 5 hours</td>\n",
       "      <td>Moderate</td>\n",
       "      <td>Class 12</td>\n",
       "      <td>No</td>\n",
       "      <td>No</td>\n",
       "    </tr>\n",
       "    <tr>\n",
       "      <th>freq</th>\n",
       "      <td>2112</td>\n",
       "      <td>51262</td>\n",
       "      <td>4387</td>\n",
       "      <td>75028</td>\n",
       "      <td>16385</td>\n",
       "      <td>25661</td>\n",
       "      <td>33018</td>\n",
       "      <td>9812</td>\n",
       "      <td>47375</td>\n",
       "      <td>47118</td>\n",
       "    </tr>\n",
       "  </tbody>\n",
       "</table>\n",
       "</div>"
      ],
      "text/plain": [
       "         Name Gender    City Working Professional or Student Profession  \\\n",
       "count   93800  93800   93800                           93800      69168   \n",
       "unique    374      2      68                               2         64   \n",
       "top     Rohan   Male  Kalyan            Working Professional    Teacher   \n",
       "freq     2112  51262    4387                           75028      16385   \n",
       "\n",
       "           Sleep Duration Dietary Habits    Degree Suicidal thoughts  \\\n",
       "count               93800          93795     93798             93800   \n",
       "unique                 31             22        87                 2   \n",
       "top     Less than 5 hours       Moderate  Class 12                No   \n",
       "freq                25661          33018      9812             47375   \n",
       "\n",
       "       Family History of Mental Illness  \n",
       "count                             93800  \n",
       "unique                                2  \n",
       "top                                  No  \n",
       "freq                              47118  "
      ]
     },
     "execution_count": 10,
     "metadata": {},
     "output_type": "execute_result"
    }
   ],
   "source": [
    "df.describe(include=(\"O\"))"
   ]
  },
  {
   "cell_type": "markdown",
   "id": "a97ad7b5-0849-492f-bce4-a4b5e595cce1",
   "metadata": {},
   "source": [
    "# Observation:\n",
    "- The summary provides frequency,counts,top and number of unique entries."
   ]
  },
  {
   "cell_type": "markdown",
   "id": "d8faec57-4d81-41a5-b6cb-f23cbbf0bf3c",
   "metadata": {},
   "source": [
    "# Null Value Count Across All Columns"
   ]
  },
  {
   "cell_type": "code",
   "execution_count": 11,
   "id": "a4acf6c9-c366-4fe0-9a76-d52a90c9e261",
   "metadata": {},
   "outputs": [
    {
     "data": {
      "text/plain": [
       "id                                      0\n",
       "Name                                    0\n",
       "Gender                                  0\n",
       "Age                                     0\n",
       "City                                    0\n",
       "Working Professional or Student         0\n",
       "Profession                          24632\n",
       "Work Pressure                       18778\n",
       "Job Satisfaction                    18774\n",
       "Sleep Duration                          0\n",
       "Dietary Habits                          5\n",
       "Degree                                  2\n",
       "Suicidal thoughts                       0\n",
       "Work/Study Hours                        0\n",
       "Financial Stress                        0\n",
       "Family History of Mental Illness        0\n",
       "dtype: int64"
      ]
     },
     "execution_count": 11,
     "metadata": {},
     "output_type": "execute_result"
    }
   ],
   "source": [
    "df.isnull().sum()"
   ]
  },
  {
   "cell_type": "markdown",
   "id": "750024c0-66c3-4f8e-abe7-9d07709ad901",
   "metadata": {},
   "source": [
    "# Percentage of Missing Values"
   ]
  },
  {
   "cell_type": "code",
   "execution_count": 12,
   "id": "a6a9b8a0-3bf7-4dfd-9804-c6f50a1292ad",
   "metadata": {},
   "outputs": [
    {
     "data": {
      "text/plain": [
       "id                                   0.0\n",
       "Name                                 0.0\n",
       "Gender                               0.0\n",
       "Age                                  0.0\n",
       "City                                 0.0\n",
       "Working Professional or Student      0.0\n",
       "Profession                          26.0\n",
       "Work Pressure                       20.0\n",
       "Job Satisfaction                    20.0\n",
       "Sleep Duration                       0.0\n",
       "Dietary Habits                       0.0\n",
       "Degree                               0.0\n",
       "Suicidal thoughts                    0.0\n",
       "Work/Study Hours                     0.0\n",
       "Financial Stress                     0.0\n",
       "Family History of Mental Illness     0.0\n",
       "dtype: float64"
      ]
     },
     "execution_count": 12,
     "metadata": {},
     "output_type": "execute_result"
    }
   ],
   "source": [
    "round(df.isnull().sum()/len(df)*100)"
   ]
  },
  {
   "cell_type": "markdown",
   "id": "b2c24f29-9f79-42fb-9144-ba0ad4fc6539",
   "metadata": {},
   "source": [
    "# Observation:\n",
    "- 6 columns containg missing values:\n",
    "- Profession --> 26% missing values.              \n",
    "- Work Pressure --> 20% missing values.                              \n",
    "- Job Satisfaction --> 20% missing values."
   ]
  },
  {
   "cell_type": "code",
   "execution_count": 13,
   "id": "de58f044-5de1-403b-82fb-282d3c331a82",
   "metadata": {},
   "outputs": [
    {
     "name": "stdout",
     "output_type": "stream",
     "text": [
      "<class 'pandas.core.frame.DataFrame'>\n",
      "RangeIndex: 93800 entries, 0 to 93799\n",
      "Data columns (total 16 columns):\n",
      " #   Column                            Non-Null Count  Dtype  \n",
      "---  ------                            --------------  -----  \n",
      " 0   id                                93800 non-null  int64  \n",
      " 1   Name                              93800 non-null  object \n",
      " 2   Gender                            93800 non-null  object \n",
      " 3   Age                               93800 non-null  float64\n",
      " 4   City                              93800 non-null  object \n",
      " 5   Working Professional or Student   93800 non-null  object \n",
      " 6   Profession                        69168 non-null  object \n",
      " 7   Work Pressure                     75022 non-null  float64\n",
      " 8   Job Satisfaction                  75026 non-null  float64\n",
      " 9   Sleep Duration                    93800 non-null  object \n",
      " 10  Dietary Habits                    93795 non-null  object \n",
      " 11  Degree                            93798 non-null  object \n",
      " 12  Suicidal thoughts                 93800 non-null  object \n",
      " 13  Work/Study Hours                  93800 non-null  float64\n",
      " 14  Financial Stress                  93800 non-null  float64\n",
      " 15  Family History of Mental Illness  93800 non-null  object \n",
      "dtypes: float64(5), int64(1), object(10)\n",
      "memory usage: 11.5+ MB\n"
     ]
    }
   ],
   "source": [
    "df.info()"
   ]
  },
  {
   "cell_type": "markdown",
   "id": "8584c364-a3aa-47f9-9792-430ff19896a3",
   "metadata": {},
   "source": [
    "# Value Count Summary(Mental Health of a students and working professionals):"
   ]
  },
  {
   "cell_type": "markdown",
   "id": "0e1aa7ab-58a1-4266-b41d-7e936ff4cb9f",
   "metadata": {},
   "source": [
    "## 1.id\n",
    "- It contain integers values.\n",
    "- Each Id contain different integer id number.\n",
    "- fully complete,no missing values."
   ]
  },
  {
   "cell_type": "markdown",
   "id": "9f0ab04c-ec23-4b42-b559-497ec85c951b",
   "metadata": {},
   "source": [
    "## 2.Name\n",
    "- name of a person.\n",
    "- no missing values."
   ]
  },
  {
   "cell_type": "markdown",
   "id": "41f42775-e0db-4c63-9be7-247c7e3ac358",
   "metadata": {},
   "source": [
    "## 3.Gender\n",
    "- It contain gender of a person(Male/Female).\n",
    "- no missing values."
   ]
  },
  {
   "cell_type": "markdown",
   "id": "6b959aad-5999-4a00-bf5b-3f5ad819bfb5",
   "metadata": {},
   "source": [
    "## 4.Age\n",
    "- it contain age of a person in numerical values.\n",
    "- no missing values."
   ]
  },
  {
   "cell_type": "markdown",
   "id": "ae3e3267-a788-444d-8e43-2360bbc183a1",
   "metadata": {},
   "source": [
    "## 5. Working Professional or Student\n",
    "- it contain a person is  Working Professional or Student.\n",
    "- no missing values."
   ]
  },
  {
   "cell_type": "markdown",
   "id": "c51e911c-7cdd-4281-a9f1-e5d5628e09e3",
   "metadata": {},
   "source": [
    "## 6. Profession   \n",
    "- it contain, a person is in which profession(teacher,loyer,etc..).\n",
    "- 24632 missing values"
   ]
  },
  {
   "cell_type": "markdown",
   "id": "1e4d3927-964b-4ac0-86c1-05731eb8ac06",
   "metadata": {},
   "source": [
    "## 7.Work Pressure \n",
    "- the work pressure of a person in daily life.\n",
    "- 18774 missing values."
   ]
  },
  {
   "cell_type": "markdown",
   "id": "e29d55c0-c31d-4b13-872b-ec00041ab06f",
   "metadata": {},
   "source": [
    "## 8.Job Satisfaction\n",
    "- Rating of satisfaction with their job.\n",
    "- 18774 missing values."
   ]
  },
  {
   "cell_type": "markdown",
   "id": "93fb674f-9db2-4029-a13a-09941ac40cb1",
   "metadata": {},
   "source": [
    "## 9.Sleep Duration\n",
    "- Average sleep duration(like 6 hours,7 hours).\n",
    "- 5 missing values"
   ]
  },
  {
   "cell_type": "markdown",
   "id": "21e02c92-31b2-4304-bd29-4324dd6b4b0c",
   "metadata": {},
   "source": [
    "## 10. Dietary Habits.\n",
    "- eating habits.\n",
    "- 2 missing values."
   ]
  },
  {
   "cell_type": "markdown",
   "id": "b0539978-87f9-439d-9826-25cbc1cac41e",
   "metadata": {},
   "source": [
    "## 11.Degree\n",
    "- The Degree/course they are pursing.\n",
    "- 2 missing values."
   ]
  },
  {
   "cell_type": "markdown",
   "id": "8b659b16-94a7-4b31-98b7-c4645630200f",
   "metadata": {},
   "source": [
    "## 12.suicidal thoughts\n",
    "- the thougths of a persons.\n",
    "- no missing values."
   ]
  },
  {
   "cell_type": "markdown",
   "id": "9504e963-5f67-47a9-8fbb-a520a3c8a259",
   "metadata": {},
   "source": [
    "## 13.Work/Study Hours\n",
    "- Average number of hours spent working/studying per day."
   ]
  },
  {
   "cell_type": "markdown",
   "id": "55a03429-a338-400b-a886-53e9e38addab",
   "metadata": {},
   "source": [
    "## 14. Finacial Stress\n",
    "- Numeric rating of financial pressure(like difficulty affording tution,expensenses."
   ]
  },
  {
   "cell_type": "markdown",
   "id": "545aa4c9-9d02-4076-860f-39e0985967eb",
   "metadata": {},
   "source": [
    "## 15.city\n",
    "- city of residence."
   ]
  },
  {
   "cell_type": "markdown",
   "id": "dcff2d58-8477-48f5-beb0-972671a4f76d",
   "metadata": {},
   "source": [
    "## 16.Family History ofMental illness.\n",
    "- whether any close family members have mental illness or not."
   ]
  },
  {
   "cell_type": "code",
   "execution_count": 14,
   "id": "e574abe4-6f3b-4349-9031-2e30cfac77d2",
   "metadata": {},
   "outputs": [
    {
     "data": {
      "text/plain": [
       "id\n",
       "140700    1\n",
       "203240    1\n",
       "203238    1\n",
       "203237    1\n",
       "203236    1\n",
       "         ..\n",
       "171965    1\n",
       "171964    1\n",
       "171963    1\n",
       "171962    1\n",
       "234499    1\n",
       "Name: count, Length: 93800, dtype: int64"
      ]
     },
     "execution_count": 14,
     "metadata": {},
     "output_type": "execute_result"
    }
   ],
   "source": [
    "df[\"id\"].value_counts()"
   ]
  },
  {
   "cell_type": "markdown",
   "id": "ff93308c-7dba-4ce2-9390-ad3cba454730",
   "metadata": {},
   "source": [
    "# Observation\n",
    "- every id occurs 1 time in id column, so it shows 1 for each id.\n",
    "- and also it shows its length that is 93800 and also dtype(datatype) is int64."
   ]
  },
  {
   "cell_type": "code",
   "execution_count": 15,
   "id": "693861e4-aef4-4b9d-912c-2a45e8fcb3db",
   "metadata": {},
   "outputs": [
    {
     "data": {
      "text/plain": [
       "Age\n",
       "56.00    3432\n",
       "49.00    3425\n",
       "38.00    3008\n",
       "53.00    2958\n",
       "57.00    2875\n",
       "47.00    2740\n",
       "46.00    2728\n",
       "18.00    2614\n",
       "59.00    2551\n",
       "54.00    2549\n",
       "51.00    2544\n",
       "43.00    2506\n",
       "48.00    2459\n",
       "20.00    2335\n",
       "45.00    2329\n",
       "50.00    2311\n",
       "24.00    2296\n",
       "42.00    2295\n",
       "28.00    2292\n",
       "39.00    2279\n",
       "44.00    2242\n",
       "29.00    2152\n",
       "41.00    2093\n",
       "33.00    2057\n",
       "58.00    1982\n",
       "25.00    1953\n",
       "40.00    1950\n",
       "35.00    1940\n",
       "21.00    1930\n",
       "55.00    1923\n",
       "23.00    1870\n",
       "37.00    1789\n",
       "34.00    1785\n",
       "36.00    1742\n",
       "19.00    1731\n",
       "27.00    1719\n",
       "60.00    1701\n",
       "52.00    1687\n",
       "31.00    1660\n",
       "22.00    1417\n",
       "26.00    1362\n",
       "30.00    1361\n",
       "32.00    1227\n",
       "32.08       1\n",
       "Name: count, dtype: int64"
      ]
     },
     "execution_count": 15,
     "metadata": {},
     "output_type": "execute_result"
    }
   ],
   "source": [
    "df[\"Age\"].value_counts()"
   ]
  },
  {
   "cell_type": "code",
   "execution_count": 16,
   "id": "4586bed3-26b9-4f5f-a305-734eb6894b52",
   "metadata": {},
   "outputs": [
    {
     "data": {
      "text/plain": [
       "44"
      ]
     },
     "execution_count": 16,
     "metadata": {},
     "output_type": "execute_result"
    }
   ],
   "source": [
    "len(df[\"Age\"].value_counts())"
   ]
  },
  {
   "cell_type": "markdown",
   "id": "24db496c-03b8-4315-8e25-fb69489823ae",
   "metadata": {},
   "source": [
    "# Observation\n",
    "- It shows Ages of a persons and how many times each age repeated in age cloumns.\n",
    "- and ages contain float values.\n",
    "- and also it shows dtype(datatype) is int64.\n",
    "- and its length is 44."
   ]
  },
  {
   "cell_type": "code",
   "execution_count": 17,
   "id": "39bfa048-a553-425d-a004-80450a5b3c59",
   "metadata": {},
   "outputs": [
    {
     "data": {
      "text/plain": [
       "Work Pressure\n",
       "2.0    16255\n",
       "5.0    15113\n",
       "4.0    14974\n",
       "3.0    14650\n",
       "1.0    14030\n",
       "Name: count, dtype: int64"
      ]
     },
     "execution_count": 17,
     "metadata": {},
     "output_type": "execute_result"
    }
   ],
   "source": [
    "df[\"Work Pressure\"].value_counts()"
   ]
  },
  {
   "cell_type": "markdown",
   "id": "2d6f6cba-07a2-4ada-818e-cb94467d3ca9",
   "metadata": {},
   "source": [
    "# Observation\n",
    "- It shows the work pressure of a persons.\n",
    "- it contain ratings out of 5.0.\n",
    "- it is in a float values."
   ]
  },
  {
   "cell_type": "code",
   "execution_count": 18,
   "id": "ea1c6e3d-462a-43b1-958e-157fc0277bcd",
   "metadata": {},
   "outputs": [
    {
     "data": {
      "text/plain": [
       "Job Satisfaction\n",
       "2.0    16971\n",
       "5.0    14827\n",
       "1.0    14793\n",
       "3.0    14464\n",
       "4.0    13971\n",
       "Name: count, dtype: int64"
      ]
     },
     "execution_count": 18,
     "metadata": {},
     "output_type": "execute_result"
    }
   ],
   "source": [
    "df[\"Job Satisfaction\"].value_counts()"
   ]
  },
  {
   "cell_type": "markdown",
   "id": "f03fe086-8a53-4b42-a0b3-3243360f0060",
   "metadata": {},
   "source": [
    "# Observation\n",
    "- It shows the job satisfaction of a persons.\n",
    "- it contain rating out of 5.0.\n",
    "- it is in float values.\n"
   ]
  },
  {
   "cell_type": "code",
   "execution_count": 19,
   "id": "e056277e-b153-4238-ba7e-746bca47afcc",
   "metadata": {},
   "outputs": [
    {
     "data": {
      "text/plain": [
       "Work/Study Hours\n",
       "10.0    9450\n",
       "11.0    8555\n",
       "9.0     8315\n",
       "0.0     8132\n",
       "12.0    7657\n",
       "2.0     7083\n",
       "6.0     7029\n",
       "7.0     6646\n",
       "1.0     6525\n",
       "3.0     6261\n",
       "5.0     6118\n",
       "4.0     6079\n",
       "8.0     5950\n",
       "Name: count, dtype: int64"
      ]
     },
     "execution_count": 19,
     "metadata": {},
     "output_type": "execute_result"
    }
   ],
   "source": [
    "df[\"Work/Study Hours\"].value_counts()"
   ]
  },
  {
   "cell_type": "markdown",
   "id": "176b5c6c-8f6d-4743-92d4-83020b195e89",
   "metadata": {},
   "source": [
    "# Observation\n",
    "- It shows the work/study hours of a person.\n",
    "- it contain how many hours in a day a person work/studied.\n",
    "- The hours contain float values.\n"
   ]
  },
  {
   "cell_type": "code",
   "execution_count": 20,
   "id": "791fd9fd-2c50-4c9d-8ec3-7e316e08675f",
   "metadata": {},
   "outputs": [
    {
     "data": {
      "text/plain": [
       "Financial Stress\n",
       "2.0    21151\n",
       "5.0    18694\n",
       "4.0    18453\n",
       "1.0    18341\n",
       "3.0    17161\n",
       "Name: count, dtype: int64"
      ]
     },
     "execution_count": 20,
     "metadata": {},
     "output_type": "execute_result"
    }
   ],
   "source": [
    "df[\"Financial Stress\"].value_counts()"
   ]
  },
  {
   "cell_type": "markdown",
   "id": "8c3771b1-ec1e-40a8-8365-e8a8e54c913d",
   "metadata": {},
   "source": [
    "# Observation\n",
    "- It shows financial stress of a person.\n",
    "- it contain rating out of 5.0.\n",
    "- it contain float values."
   ]
  },
  {
   "cell_type": "code",
   "execution_count": 21,
   "id": "2a4c9e26-9689-4312-b889-027690f10bcb",
   "metadata": {},
   "outputs": [
    {
     "name": "stdout",
     "output_type": "stream",
     "text": [
      "<class 'pandas.core.frame.DataFrame'>\n",
      "RangeIndex: 93800 entries, 0 to 93799\n",
      "Data columns (total 16 columns):\n",
      " #   Column                            Non-Null Count  Dtype  \n",
      "---  ------                            --------------  -----  \n",
      " 0   id                                93800 non-null  int64  \n",
      " 1   Name                              93800 non-null  object \n",
      " 2   Gender                            93800 non-null  object \n",
      " 3   Age                               93800 non-null  float64\n",
      " 4   City                              93800 non-null  object \n",
      " 5   Working Professional or Student   93800 non-null  object \n",
      " 6   Profession                        69168 non-null  object \n",
      " 7   Work Pressure                     75022 non-null  float64\n",
      " 8   Job Satisfaction                  75026 non-null  float64\n",
      " 9   Sleep Duration                    93800 non-null  object \n",
      " 10  Dietary Habits                    93795 non-null  object \n",
      " 11  Degree                            93798 non-null  object \n",
      " 12  Suicidal thoughts                 93800 non-null  object \n",
      " 13  Work/Study Hours                  93800 non-null  float64\n",
      " 14  Financial Stress                  93800 non-null  float64\n",
      " 15  Family History of Mental Illness  93800 non-null  object \n",
      "dtypes: float64(5), int64(1), object(10)\n",
      "memory usage: 11.5+ MB\n"
     ]
    }
   ],
   "source": [
    "df.info()"
   ]
  },
  {
   "cell_type": "markdown",
   "id": "9a40a5a7-0bc4-43b5-9864-3c42fe190f16",
   "metadata": {},
   "source": [
    "# Real Numerical columns"
   ]
  },
  {
   "cell_type": "markdown",
   "id": "65562156-5a29-4c0b-a36b-4b69f9e26270",
   "metadata": {},
   "source": [
    "- Age\n",
    "  - observation: continuous variable showing respondent ages, no missing values.\n",
    "\n",
    "- Work Pressure\n",
    "  - observation: numerical but has missing values, measures stress level at work.\n",
    "\n",
    "- Job Satisfaction\n",
    "  - observation:numerical, missing values, reflects satisfaction score.\n",
    "\n",
    "- Work/Study Hours\n",
    "   - observation: numerical, likely to show distribution of daily/weekly hours spent.\n",
    "\n",
    "- Financial Stress\n",
    "   - observation: numerical, non-missing, quantifies financial burden."
   ]
  },
  {
   "cell_type": "markdown",
   "id": "cd0d34cc-8df7-4e11-be29-cc848b631d36",
   "metadata": {},
   "source": [
    "# Discrete Numerical Columns"
   ]
  },
  {
   "cell_type": "markdown",
   "id": "00e6b320-e6e7-4022-a0ba-a1e02ee20566",
   "metadata": {},
   "source": [
    "- id\n",
    "   - observation: id is purely acts as a unique identifier, not used in statistical/ML analysis.\n",
    "\n",
    "- Age\n",
    "   - observation: age will show natural clustering around young adults (students) or working-age groups → useful for demographic segmentation.\n",
    "- Work/Study Hours\n",
    "    - observation: reflects daily/weekly effort; analyzing its distribution can highlight overwork or under-study patterns.\n",
    "                                                                                                                \n",
    "                          "
   ]
  },
  {
   "cell_type": "markdown",
   "id": "687cced3-8d39-4ea0-968b-3e835fe724a5",
   "metadata": {},
   "source": [
    "# Categorical Data Columns"
   ]
  },
  {
   "cell_type": "markdown",
   "id": "90bc4343-4059-4287-a398-9fbd37ccbae1",
   "metadata": {},
   "source": [
    "- Name \n",
    "- Gender \n",
    "- City \n",
    "- Working Professional or Student \n",
    "- Profession \n",
    "- Sleep Duration \n",
    "- Dietary Habits \n",
    "- Degree \n",
    "- Suicidal thoughts "
   ]
  },
  {
   "cell_type": "markdown",
   "id": "09ddc65e-e1a9-4c2d-a4d3-99dbe518fc66",
   "metadata": {},
   "source": [
    "# Checking for Duplicates"
   ]
  },
  {
   "cell_type": "code",
   "execution_count": 22,
   "id": "0df63181-5fae-4f8c-8d72-a4e774d84b4f",
   "metadata": {},
   "outputs": [
    {
     "data": {
      "text/plain": [
       "0"
      ]
     },
     "execution_count": 22,
     "metadata": {},
     "output_type": "execute_result"
    }
   ],
   "source": [
    "df.duplicated().sum()"
   ]
  },
  {
   "cell_type": "markdown",
   "id": "7a072069-787b-4a4d-95e9-bbc8178301d0",
   "metadata": {},
   "source": [
    "# Observation:\n",
    "- As seen there are no duplicates found in the dataset."
   ]
  },
  {
   "cell_type": "markdown",
   "id": "3509f7f4-13e8-4ad2-8a1b-793e09381810",
   "metadata": {},
   "source": [
    "# Detecting Outliers\n",
    "- The IQR(Interquartile Range) method was used to detect outliers in all numerical columns as part of the non-visual analysis."
   ]
  },
  {
   "cell_type": "markdown",
   "id": "cf8c446f-90b7-4e3c-889e-eee2e0f1d47e",
   "metadata": {},
   "source": [
    "# Steps:\n",
    "- Calculate Q1(25th percentile) and Q3 (75th percentile).\n",
    "- Compute IQR = Q3-Q1.\n",
    "- Define lower and upper bounds.\n",
    "- Lower bounds = Q1 - 1.5 x IQR.\n",
    "- Upeer bounds = Q3 + 1.5 x IQR.\n",
    "- Any value outside this range is considered an outlier."
   ]
  },
  {
   "cell_type": "code",
   "execution_count": 23,
   "id": "b473765f-7084-4d94-b3bc-73b88aef15d8",
   "metadata": {},
   "outputs": [],
   "source": [
    "num_cols = df.select_dtypes(include=['float64', 'int64']).columns"
   ]
  },
  {
   "cell_type": "code",
   "execution_count": 24,
   "id": "b978dbc3-770a-41f0-9e07-d66624949271",
   "metadata": {},
   "outputs": [],
   "source": [
    "outliers = {}"
   ]
  },
  {
   "cell_type": "code",
   "execution_count": 25,
   "id": "7cf7c40d-d023-4929-b020-6fc9ac1cbacf",
   "metadata": {},
   "outputs": [],
   "source": [
    "outliers = {}\n",
    "for col in num_cols:\n",
    "    if df[col].isnull().all():\n",
    "        continue  # Skip the columns with all missing values\n",
    "    Q1 = df[col].quantile(0.25)\n",
    "    Q3 = df[col].quantile(0.75)\n",
    "    IQR = Q3 - Q1\n",
    "    lower = Q1 - 1.5 * IQR\n",
    "    upper = Q3 + 1.5 * IQR\n",
    "    outlier_values = df[(df[col] < lower) | (df[col] > upper)][col]\n",
    "    if not outlier_values.empty:\n",
    "        outliers[col] = outlier_values.tolist()"
   ]
  },
  {
   "cell_type": "code",
   "execution_count": 26,
   "id": "f27b869c-292e-4790-b3ff-572c0275ea9c",
   "metadata": {},
   "outputs": [
    {
     "name": "stdout",
     "output_type": "stream",
     "text": [
      "No outliers found in the numerical columns.\n"
     ]
    }
   ],
   "source": [
    "if outliers:\n",
    "    for col, vals in outliers.items():\n",
    "        print(f\"\\nOutliers in column '{col}':\\n{vals}\")\n",
    "else:\n",
    "      print(\"No outliers found in the numerical columns.\")"
   ]
  },
  {
   "cell_type": "markdown",
   "id": "f1197225-3a47-4846-a937-e9a98a645012",
   "metadata": {},
   "source": [
    "# Observation:\n",
    "- Using the IQR method,outliers were detected in the Projected Openings(ZERO) columns."
   ]
  },
  {
   "cell_type": "markdown",
   "id": "ec38859b-5260-4add-ac6e-38970ae5785d",
   "metadata": {},
   "source": [
    "# Phase 2 : Data Vleaning & Manipulation"
   ]
  },
  {
   "cell_type": "markdown",
   "id": "61db589c-eb3b-4dd1-a682-a6f86a24d2a4",
   "metadata": {},
   "source": [
    "# Objective: "
   ]
  },
  {
   "cell_type": "markdown",
   "id": "647bee34-8109-4759-bd5c-ea2891ba50cb",
   "metadata": {},
   "source": [
    "- The objective of this phase is to clean and prepare the dataset by resolving inconsistencies, \n",
    "handling missing values, and ensuring data quality. This phase also includes non-visual \n",
    "bivariate analysis to understand key relationships between variables. "
   ]
  },
  {
   "cell_type": "markdown",
   "id": "59c9bef1-ab87-4642-9bd7-a099f5eafc11",
   "metadata": {},
   "source": [
    "# Task to perform"
   ]
  },
  {
   "cell_type": "markdown",
   "id": "1b2ced65-6d5c-4cd2-a0dd-e0ef1e6d1191",
   "metadata": {},
   "source": [
    "# 1. Handle Missing Data "
   ]
  },
  {
   "cell_type": "markdown",
   "id": "b24d76cc-eeee-44ea-a940-3835c1a2cda4",
   "metadata": {},
   "source": [
    " - Identify which columns have missing or null values. "
   ]
  },
  {
   "cell_type": "code",
   "execution_count": 27,
   "id": "af48775c-a76d-43e2-b27a-bec3e2ec8843",
   "metadata": {},
   "outputs": [
    {
     "data": {
      "text/plain": [
       "id                                      0\n",
       "Name                                    0\n",
       "Gender                                  0\n",
       "Age                                     0\n",
       "City                                    0\n",
       "Working Professional or Student         0\n",
       "Profession                          24632\n",
       "Work Pressure                       18778\n",
       "Job Satisfaction                    18774\n",
       "Sleep Duration                          0\n",
       "Dietary Habits                          5\n",
       "Degree                                  2\n",
       "Suicidal thoughts                       0\n",
       "Work/Study Hours                        0\n",
       "Financial Stress                        0\n",
       "Family History of Mental Illness        0\n",
       "dtype: int64"
      ]
     },
     "execution_count": 27,
     "metadata": {},
     "output_type": "execute_result"
    }
   ],
   "source": [
    "df.isnull().sum()"
   ]
  },
  {
   "cell_type": "markdown",
   "id": "afb91760-7260-44dd-9e8b-0ac215396a2c",
   "metadata": {},
   "source": [
    "# Observation"
   ]
  },
  {
   "cell_type": "markdown",
   "id": "670c5bbd-5e06-42be-bbce-4ecd9b89c9cd",
   "metadata": {},
   "source": [
    "1. Columns with No Missing Values (Complete Data):\n",
    "   - id, Name, Gender, Age, City, Working Professional or Student, Sleep Duration, Suicidal thoughts, Work/Study Hours, Financial Stress, Family History of Mental Illness.\n",
    "   - These are complete and reliable for analysis."
   ]
  },
  {
   "cell_type": "markdown",
   "id": "dfce7c63-7e3e-4102-beb9-37a8ef476468",
   "metadata": {},
   "source": [
    "2. Columns with Few Missing Values (Can be Cleaned Easily):\n",
    "   - Dietary Habits → 5 missing.\n",
    "   - Degree → 2 missing.\n"
   ]
  },
  {
   "cell_type": "markdown",
   "id": "1f267c4c-9e85-4412-98f8-d423f3f5e7fa",
   "metadata": {},
   "source": [
    "3. Columns with High Missing Values (Need Careful Handling):\n",
    "   - Profession → 24,632 missing.\n",
    "   - Work Pressure → 18,778 missing.\n",
    "   - Job Satisfaction → 18,774 missing."
   ]
  },
  {
   "cell_type": "markdown",
   "id": "28931adc-0342-4b39-b114-0734952d4ebc",
   "metadata": {},
   "source": [
    "### Fill missing values using suitable methods such as: \n",
    "- Mean or median (for numerical values) \n",
    "- Mode or placeholder (for categorical values)"
   ]
  },
  {
   "cell_type": "code",
   "execution_count": 28,
   "id": "b68f8c1c-b869-48fe-bb50-f0fa5c7992c7",
   "metadata": {},
   "outputs": [
    {
     "data": {
      "text/plain": [
       "'Teacher'"
      ]
     },
     "execution_count": 28,
     "metadata": {},
     "output_type": "execute_result"
    }
   ],
   "source": [
    "df[\"Profession\"].mode()[0]"
   ]
  },
  {
   "cell_type": "code",
   "execution_count": 29,
   "id": "88fafd88-0c2b-4a56-8923-8143a033bfdb",
   "metadata": {},
   "outputs": [],
   "source": [
    "df[\"Profession\"]=df[\"Profession\"].fillna(df[\"Profession\"].mode()[0])"
   ]
  },
  {
   "cell_type": "code",
   "execution_count": 30,
   "id": "d9622e29-5885-4d72-a170-d8ea10980e7b",
   "metadata": {},
   "outputs": [
    {
     "data": {
      "text/plain": [
       "False"
      ]
     },
     "execution_count": 30,
     "metadata": {},
     "output_type": "execute_result"
    }
   ],
   "source": [
    "df[\"Profession\"].isnull().any()"
   ]
  },
  {
   "cell_type": "markdown",
   "id": "d119e3cb-b2dc-46ea-b754-91c1d981a3f8",
   "metadata": {},
   "source": [
    "# Observation:\n",
    "   - Missing values removed.\n",
    "   - All Missing values and NaN values in Profession are now replaced with most repeated value."
   ]
  },
  {
   "cell_type": "code",
   "execution_count": 31,
   "id": "34ab76df-313e-47a9-a727-476743c20ca5",
   "metadata": {},
   "outputs": [
    {
     "data": {
      "text/plain": [
       "3.0"
      ]
     },
     "execution_count": 31,
     "metadata": {},
     "output_type": "execute_result"
    }
   ],
   "source": [
    "df[\"Work Pressure\"].median()"
   ]
  },
  {
   "cell_type": "code",
   "execution_count": 32,
   "id": "4e50cc17-2fc9-40a5-b4e6-7aba1fb46780",
   "metadata": {},
   "outputs": [],
   "source": [
    "df[\"Work Pressure\"]=df[\"Work Pressure\"].fillna(df[\"Work Pressure\"].median())"
   ]
  },
  {
   "cell_type": "code",
   "execution_count": 33,
   "id": "231a3a78-b638-4149-a22b-f4230d2332aa",
   "metadata": {},
   "outputs": [
    {
     "data": {
      "text/plain": [
       "False"
      ]
     },
     "execution_count": 33,
     "metadata": {},
     "output_type": "execute_result"
    }
   ],
   "source": [
    "df[\"Work Pressure\"].isnull().any()"
   ]
  },
  {
   "cell_type": "markdown",
   "id": "95f84f7c-d3fb-46db-81ce-0cb45dddc90e",
   "metadata": {},
   "source": [
    "# Observation:\n",
    "  - Missing values removed.\n",
    "  - All Missing values and NaN in Work Pressure column are now replaced with median value."
   ]
  },
  {
   "cell_type": "code",
   "execution_count": 34,
   "id": "70af7616-c7e2-4a15-b4ae-6d83d2fedaf3",
   "metadata": {},
   "outputs": [
    {
     "data": {
      "text/plain": [
       "2.9609202143257005"
      ]
     },
     "execution_count": 34,
     "metadata": {},
     "output_type": "execute_result"
    }
   ],
   "source": [
    "df[\"Job Satisfaction\"].mean()"
   ]
  },
  {
   "cell_type": "code",
   "execution_count": 35,
   "id": "c5c5ff61-3ba9-4504-b345-ca8cd610ca95",
   "metadata": {},
   "outputs": [],
   "source": [
    "df[\"Job Satisfaction\"]=np.round(df[\"Job Satisfaction\"].fillna(df[\"Job Satisfaction\"].mean()),0)"
   ]
  },
  {
   "cell_type": "code",
   "execution_count": 36,
   "id": "5be295c9-0140-4e82-9dd6-9a84d102ed9d",
   "metadata": {},
   "outputs": [
    {
     "data": {
      "text/plain": [
       "False"
      ]
     },
     "execution_count": 36,
     "metadata": {},
     "output_type": "execute_result"
    }
   ],
   "source": [
    "df[\"Job Satisfaction\"].isnull().any()"
   ]
  },
  {
   "cell_type": "markdown",
   "id": "acc0ee82-21ad-48ed-89bd-cdbda86ce038",
   "metadata": {},
   "source": [
    "# Observation\n",
    " - Missing values removed.\n",
    " - All Missing values and NaN in Job Satisfaction column are now replaced with mean value.\n",
    " "
   ]
  },
  {
   "cell_type": "code",
   "execution_count": 37,
   "id": "4cd2874e-ca8f-4473-bfb8-94d76d3f1662",
   "metadata": {},
   "outputs": [
    {
     "data": {
      "text/plain": [
       "'Moderate'"
      ]
     },
     "execution_count": 37,
     "metadata": {},
     "output_type": "execute_result"
    }
   ],
   "source": [
    "df[\"Dietary Habits\"].mode()[0]"
   ]
  },
  {
   "cell_type": "code",
   "execution_count": 38,
   "id": "0558c1b3-0c06-4389-baa1-70acb54701e6",
   "metadata": {},
   "outputs": [],
   "source": [
    "df[\"Dietary Habits\"]= df[\"Dietary Habits\"].fillna(df[\"Dietary Habits\"].mode()[0])"
   ]
  },
  {
   "cell_type": "code",
   "execution_count": 39,
   "id": "2bb566ec-e60f-4bc5-99c0-a5f0d19663ba",
   "metadata": {},
   "outputs": [
    {
     "data": {
      "text/plain": [
       "False"
      ]
     },
     "execution_count": 39,
     "metadata": {},
     "output_type": "execute_result"
    }
   ],
   "source": [
    "df[\"Dietary Habits\"].isnull().any()"
   ]
  },
  {
   "cell_type": "markdown",
   "id": "f49fa43c-0b9e-4124-a215-ad75b66bac41",
   "metadata": {},
   "source": [
    "# Observation\n",
    "  - Missing values removed.\n",
    "  - All Missing values and NaN in Dietary Habits column are now replaced with most repeated value.\n"
   ]
  },
  {
   "cell_type": "code",
   "execution_count": 40,
   "id": "ff89fd97-5828-44e2-8a1e-05eb78938385",
   "metadata": {},
   "outputs": [
    {
     "data": {
      "text/plain": [
       "'Class 12'"
      ]
     },
     "execution_count": 40,
     "metadata": {},
     "output_type": "execute_result"
    }
   ],
   "source": [
    "df[\"Degree\"].mode()[0]"
   ]
  },
  {
   "cell_type": "code",
   "execution_count": 41,
   "id": "ff2de16c-b0e9-4994-b925-8b6cfdcf8900",
   "metadata": {},
   "outputs": [],
   "source": [
    "df[\"Degree\"]=df[\"Degree\"].fillna(df[\"Degree\"].mode()[0])"
   ]
  },
  {
   "cell_type": "code",
   "execution_count": 42,
   "id": "564edb44-b0c3-4e42-85a8-a23958b6f8cd",
   "metadata": {},
   "outputs": [
    {
     "data": {
      "text/plain": [
       "False"
      ]
     },
     "execution_count": 42,
     "metadata": {},
     "output_type": "execute_result"
    }
   ],
   "source": [
    "df[\"Degree\"].isnull().any()"
   ]
  },
  {
   "cell_type": "markdown",
   "id": "72d1a1c6-a371-4987-b025-0214e8936c0d",
   "metadata": {},
   "source": [
    "# Observation()\n",
    "  - Missing values removed.\n",
    "  - All Missing values and NaN in Degree column are now replaced with most repeated value.\n"
   ]
  },
  {
   "cell_type": "markdown",
   "id": "4f184fb9-d8e3-47d3-b974-f6391ac45ca1",
   "metadata": {},
   "source": [
    "# 2. Remove Duplicates"
   ]
  },
  {
   "cell_type": "code",
   "execution_count": 43,
   "id": "c3d987a6-b68d-41e9-9726-d1fabd020ae2",
   "metadata": {},
   "outputs": [
    {
     "data": {
      "text/plain": [
       "0"
      ]
     },
     "execution_count": 43,
     "metadata": {},
     "output_type": "execute_result"
    }
   ],
   "source": [
    "df.duplicated().sum()"
   ]
  },
  {
   "cell_type": "markdown",
   "id": "f1e0c940-c02f-412c-a880-a9aedd5f6564",
   "metadata": {},
   "source": [
    "- There is no duplicates values in my data set"
   ]
  },
  {
   "cell_type": "markdown",
   "id": "1be8a617-3240-4337-88d6-82f34c0e2a55",
   "metadata": {},
   "source": [
    "# 3.  Fix Inconsistencies in Categorical Data"
   ]
  },
  {
   "cell_type": "code",
   "execution_count": 44,
   "id": "e2a9f2f8-65d9-49d9-9c08-0b20279546f2",
   "metadata": {},
   "outputs": [],
   "source": [
    "degree_mapping = {\n",
    "    'BTech': 'B.Tech',\n",
    "    'B.Tech': 'B.Tech',\n",
    "    'BE': 'B.Tech',\n",
    "    'BSc': 'B.Sc',\n",
    "    'B.Sc': 'B.Sc',\n",
    "    'BCom': 'B.Com',\n",
    "    'B_Com': 'B.Com',\n",
    "    'B.Com': 'B.Com',\n",
    "    'BCA': 'BCA',\n",
    "    'B.CA': 'BCA',\n",
    "    'B BCA': 'BCA',\n",
    "    'BA': 'BA',\n",
    "    'BBA': 'BBA',\n",
    "    'MA': 'MA',\n",
    "    'MBA': 'MBA',\n",
    "    'MCA': 'MCA',\n",
    "    'M.Tech': 'M.Tech',\n",
    "    'ME': 'M.Tech',\n",
    "    'M.Sc': 'M.Sc',\n",
    "    'MSc': 'M.Sc',\n",
    "    'M.Com': 'M.Com',\n",
    "    'M.Ed': 'M.Ed',\n",
    "    'B.Ed': 'B.Ed',\n",
    "    'BEd': 'B.Ed',\n",
    "    'LLB': 'LLB',\n",
    "    'LLM': 'LLM',\n",
    "    'PhD': 'PhD',\n",
    "    'MD': 'MD',\n",
    "    'MPharm': 'M.Pharm',\n",
    "    'BPharm': 'B.Pharm',\n",
    "    'BHM': 'BHM',\n",
    "    'MHM': 'MHM',\n",
    "    'M.Arch': 'M.Arch',\n",
    "    'B.Arch': 'B.Arch',\n",
    "    'BArch': 'B.Arch',\n",
    "    'B.Study_Hours':'B.Tech',\n",
    "    'Advait':'B.Tech',\n",
    "    'B. Gender':'B.Tech',\n",
    "    'A.Ed':'B.Ed',\n",
    "    'Mechanical Engineer':'B.Tech',\n",
    "    'B.H':'B.Tech',\n",
    "    'B':'B.Ed',\n",
    "    'M.UI':'M.Arch',\n",
    "    'Vibha':'M.Tech',\n",
    "    'B.Press':'B.Ed',\n",
    "    'Gagan':'LLB',\n",
    "    'Travel Consultant':'BCA',\n",
    "    '5.65':'B.Com',\n",
    "    'Business Analyst':'B.Tech',\n",
    "    'Eshita':'MCA',\n",
    "    'Navya':'MBBS',\n",
    "    'B._Pharm':'B.Pharm',\n",
    "    'Pune':'MBA',\n",
    "    'Bian':'BA',\n",
    "    'B.M.Com':'B.Com',\n",
    "    'Kavya':'MD',\n",
    "    'M.M.Ed':'B.Ed',\n",
    "    'S.Pharm':'B.Pharm',\n",
    "    'Vrinda':'B.Sc',\n",
    "    'M':'MD',\n",
    "    'E.Ed':'M.Ed',\n",
    "    '3.0':'MBBS',\n",
    "    'Moham':'M.Tech',\n",
    "    'nan':'LLB',\n",
    "    'I.Ed':'B.Ed',\n",
    "    'Magan':'MA',\n",
    "    'B B.Tech':'B.Tech',\n",
    "    'M.B.Ed':'M.Ed',\n",
    "    'Bhopal':'BA',\n",
    "    'B Financial Analyst':'B.Tech',\n",
    "    'GCA':'MCA',\n",
    "    'G.Ed':'M.Ed',\n",
    "    'Rupak':'MHM',\n",
    "    'RCA':'MCA',\n",
    "    'PCA':'MCA',\n",
    "    'J.Ed':'M.Ed',\n",
    "    'BH':'BA',\n",
    "    '8.95':'M.Ed',\n",
    "    'Aadhya':'B.Tech',\n",
    "    '20':'B.Tech',\n",
    "    'Banchal':'B.Tech',\n",
    "    'M.':'M.Tech',\n",
    "    'K.Ed':'B.Ed',\n",
    "    'BHCA':'MCA',\n",
    "    'Class 12':'Intermediate'\n",
    "}"
   ]
  },
  {
   "cell_type": "code",
   "execution_count": 45,
   "id": "17203b3d-26cb-4218-ae42-78c13317a890",
   "metadata": {},
   "outputs": [],
   "source": [
    "df['Degree'] = df['Degree'].replace(degree_mapping)"
   ]
  },
  {
   "cell_type": "code",
   "execution_count": 46,
   "id": "02ddbc6d-f0f1-479e-a91b-8e5f6eb30119",
   "metadata": {},
   "outputs": [
    {
     "data": {
      "text/plain": [
       "array(['LLB', 'B.Ed', 'B.Arch', 'B.Sc', 'BCA', 'B.Com', 'MA', 'BA', 'BBA',\n",
       "       'Intermediate', 'MD', 'MBA', 'M.Ed', 'M.Pharm', 'BHM', 'LLM',\n",
       "       'PhD', 'M.Com', 'B.Tech', 'MBBS', 'M.Tech', 'MCA', 'B.Pharm',\n",
       "       'MHM', 'M.Sc', 'M.Arch', 'B.BA', 'Degree'], dtype=object)"
      ]
     },
     "execution_count": 46,
     "metadata": {},
     "output_type": "execute_result"
    }
   ],
   "source": [
    "df['Degree'].unique()"
   ]
  },
  {
   "cell_type": "code",
   "execution_count": 47,
   "id": "8ade60a7-a96f-4bf0-baef-60b6f125ed0c",
   "metadata": {},
   "outputs": [],
   "source": [
    "city_mapping = {\n",
    "    'Hyderbad': 'Hyderabad',\n",
    "    'Bangalore': 'Bengaluru',\n",
    "    'Bombay': 'Mumbai',\n",
    "    'Delhii': 'Delhi',\n",
    "    'Kalyan':'Visakhapatnam',\n",
    "    'Pratyush':'Patna',\n",
    "    'Vidya':'Chennai',\n",
    "    'Less than 5 hours':'Visakhapatnam',\n",
    "    'Aditi':'Jaipur',\n",
    "    'Keshav':'Ghaziabad',\n",
    "    'Nalini':'Delhi',\n",
    "    'Mhopal':'Bhopal',\n",
    "    'Avni':'Ahmedabad',\n",
    "    'Ira':'Surat',\n",
    "    'Vaishnavi':'Hyderabad',\n",
    "    'Bhavna':'Kolkata',\n",
    "    'Lawyer':'Srinagar',\n",
    "    'Hrithik':'Lucknow',\n",
    "    'City':'Nagpur',\n",
    "    'Unaly':'Rajkot',\n",
    "    'Is Kanpur':'Kanpur',\n",
    "    'Golkata':'Kolkata',\n",
    "    'Less Delhi':'Delhi',\n",
    "    'Saurav':'Delhi',\n",
    "    'Vikram':'Meerut',\n",
    "    'Parth':'Agra',\n",
    "    'Siddhesh':'Bangalore',\n",
    "    'Vaikot':'Vaikom',\n",
    "    'Leela':'Nashik',\n",
    "    'Chemist':'Srinagar',\n",
    "    'San Vasai-Virar':'Vasai-Virar',\n",
    "    'No':'Nashik',\n",
    "    'More Delhi':'Delhi',\n",
    "    'Saanvi':'Patna',\n",
    "    'Pratham':'Patna',\n",
    "    'Vidhi':'Srinagar',\n",
    "    'Abhinav':'Hyderabad',\n",
    "    'Rolkata':'Indore',\n",
    "    'Ghopal':'Bhopal',\n",
    "    'No.12':'Hyderabad'\n",
    "}"
   ]
  },
  {
   "cell_type": "code",
   "execution_count": 48,
   "id": "93dce37a-5a41-477d-b639-8fe95d0b9d41",
   "metadata": {},
   "outputs": [],
   "source": [
    "df['City'] = df['City'].replace(city_mapping)"
   ]
  },
  {
   "cell_type": "code",
   "execution_count": 49,
   "id": "3e2552ae-a2e5-48cd-9433-323802cfb2a0",
   "metadata": {},
   "outputs": [
    {
     "data": {
      "text/plain": [
       "array(['Visakhapatnam', 'Kolkata', 'Jaipur', 'Rajkot', 'Mumbai', 'Surat',\n",
       "       'Srinagar', 'Delhi', 'Lucknow', 'Thane', 'Meerut', 'Nagpur',\n",
       "       'Ghaziabad', 'Chennai', 'Varanasi', 'Indore', 'Pune', 'Hyderabad',\n",
       "       'Kanpur', 'Nashik', 'Bhopal', 'Faridabad', 'Bengaluru',\n",
       "       'Vasai-Virar', 'Ludhiana', 'Patna', 'Vadodara', 'Ahmedabad',\n",
       "       'Agra', 'Malyan', 'Thani', 'Sara', 'Bangalore', 'Vaikom'],\n",
       "      dtype=object)"
      ]
     },
     "execution_count": 49,
     "metadata": {},
     "output_type": "execute_result"
    }
   ],
   "source": [
    "df[\"City\"].unique()"
   ]
  },
  {
   "cell_type": "code",
   "execution_count": 50,
   "id": "f76172a6-d6ce-4dcc-b0ba-3915332d2b4b",
   "metadata": {},
   "outputs": [
    {
     "data": {
      "text/plain": [
       "array(['Shivam', 'Sanya', 'Yash', 'Nalini', 'Shaurya', 'Kartik', 'Armaan',\n",
       "       'Ritika', 'Navya', 'Harsha', 'Keshav', 'Raghav', 'Advait',\n",
       "       'Reyansh', 'Garima', 'Anvi', 'Rudra', 'Riya', 'Kiran', 'Rashi',\n",
       "       'Manan', 'Anjali', 'Vikram', 'Suhani', 'Ishaani', 'Ivaan',\n",
       "       'Bhavna', 'Rupa', 'Eshita', 'Ayaan', 'Vidya', 'Chirag', 'Rupal',\n",
       "       'Khushi', 'Aarav', 'Anika', 'Yashvi', 'Dhruv', 'Abhishek', 'Anaya',\n",
       "       'Ira', 'Nishant', 'Tushar', 'Saurav', 'Aaradhya', 'Vivan',\n",
       "       'Aanchal', 'Aishwarya', 'Aarush', 'Mithila', 'Vidhi', 'Rupak',\n",
       "       'Shrey', 'Monika', 'Shruti', 'Vaishnavi', 'Amit', 'Kavya', 'Vani',\n",
       "       'Prisha', 'Gaurav', 'Ritvik', 'Rudransh', 'Krishna', 'Raunak',\n",
       "       'Rahil', 'Harsh', 'Aarohi', 'Utkarsh', 'Siddhesh', 'Veda', 'Naina',\n",
       "       'Simran', 'Kunal', 'Leela', 'Jiya', 'Vihaan', 'Chhavi', 'Rishi',\n",
       "       'Mahika', 'Aakash', 'Kartikeya', 'Tanya', 'Esha', 'Arnav',\n",
       "       'Ishaan', 'Rohan', 'Sanket', 'Raghavendra', 'Shreya', 'Nikhil',\n",
       "       'Aariv', 'Tanisha', 'Aryan', 'Mahi', 'Ranveer', 'Ansh', 'Zara',\n",
       "       'Yuvraj', 'Yogesh', 'Kashish', 'Vedant', 'Tanvi', 'Harshil',\n",
       "       'Pranav', 'Diya', 'Arav', 'Rajat', 'Vibha', 'Ila', 'Janvi',\n",
       "       'Aadhya', 'Anushka', 'Vrinda', 'Ritik', 'Sneha', 'Pari', 'Pallavi',\n",
       "       'Shiv', 'Parth', 'Saanvi', 'Nandini', 'Apoorva', 'Gagan', 'Ayush',\n",
       "       'Lakshay', 'Aniket', 'Gauri', 'Aditi', 'Hrithik', 'Pooja',\n",
       "       'Atharv', 'Kanika', 'Palak', 'Mira', 'Jhanvi', 'Shivansh',\n",
       "       'Charvi', 'Vivaan', 'Anirudh', 'Darsh', 'Anand', 'Aahana', 'Aarya',\n",
       "       'Trisha', 'Jai', 'Mayank', 'Om', 'Nikhaan', 'Abhinav', 'Vaanya',\n",
       "       'Pratham', 'Mihir', 'Prachi', 'Aarti', 'Kian', 'Shlok', 'Tejas',\n",
       "       'Siddhi', 'Dev', 'Ishan', 'Ishwar', 'Himani', 'Rhea', 'Harini',\n",
       "       'Tara', 'Isha', 'Ayansh', 'Bhavesh', 'Karishma', 'Vanya', 'Neil',\n",
       "       'Soham', 'Siddharth', 'Samar', 'Avni', 'Kriti', 'Ishita', 'Aditya',\n",
       "       'Damini', 'Nirvaan', 'Sanjeev', 'Satyam', 'Deepak', 'Lata',\n",
       "       'Nikita', 'Neha', 'Asha', 'Samaira', 'Lavanya', 'Manvi',\n",
       "       'Pratyush', 'Sara', 'Srishti', 'Ashita', 'Kabir', 'Arjun', 'Divya',\n",
       "       'Kiara', 'Nisha', 'Virat', 'Pihu', 'Arya', 'Kush', 'Jasmine',\n",
       "       'Barkha', 'Tina', 'Mukund', 'Zoya', 'Ishin', 'Sai', 'Nakul',\n",
       "       'Tanmay', 'Rya', 'Ranvi', 'Bhauri', 'Varun', 'Rajveer', 'Aneshv',\n",
       "       'Radhika', 'Vai', 'Yamini', 'Kolkata', 'Kalyan', 'Meera', 'Pr.Ed',\n",
       "       'Tanveer', 'Chibha', 'Ritita', 'Aalalav', 'Tohar', 'Anariv',\n",
       "       'Harshit', 'Shanaya', 'Shvi', 'Parvi', 'Aamir', 'Vashi', 'Mahan',\n",
       "       'Vaaya', 'MCA', 'Kishti', 'Aradhya', 'Anita', 'Krishna/ Krishna',\n",
       "       'Yashi', 'Pranch', 'Ruprav', 'Vidara', 'R. Bhavna', 'Shir',\n",
       "       'Anishwarya', 'Dalvik', 'Priya', 'Shoham', 'Adik', 'Anakash',\n",
       "       'M.Com', 'Ishil', 'Rakav', 'Aaroor', 'Mahavya', 'Surat',\n",
       "       'Siddhish', 'Tanika', 'BE', 'Parit', 'Aarik', 'Adib', 'Sohan',\n",
       "       'Aarhar', 'AHM', 'Aarsha', 'Managan', 'Aar', 'Siddi', 'Nikhi',\n",
       "       'Aandla', 'Jaunak', 'Ajai', 'Vivian', 'Kikeya', 'Vaina', 'Virar',\n",
       "       'Aani', 'Anarav', 'Ejma', 'Ishaera', 'K.Ed', 'Pruti', 'Aarohan',\n",
       "       'Taurav', 'Mahir', 'Riket', 'Anahk', 'Ruprey', 'Kanket', 'Shivan',\n",
       "       'Tanvik', 'Naham', 'Abrit', 'Patna', 'Aupal', 'Avaan', 'Vyaan',\n",
       "       'Siddil', 'Prani', 'Jha', 'Rupendra', 'Sita', 'Darshil',\n",
       "       'Abakression', 'Raghavadhya', 'Aarjun', 'Trav', 'Pritvik',\n",
       "       'R. Aakash', 'Vihaly', 'Harshot', 'Kartush', 'Kartishti',\n",
       "       'Simplicio', 'Ivi', 'Vane', 'Ishaurya', 'Anwar', 'Abha', 'Abra',\n",
       "       'Ananchal', 'Prreveal', 'Vivi', 'Rupar', 'Vihirar', 'Vivar',\n",
       "       'Shivani', 'Rajika', 'Shashi', 'Anaghav', 'Rakash', 'Ewirat',\n",
       "       'Rarsh', 'Rietal', 'Rudhi', 'Ritini', 'Raghavr', 'Srinagar',\n",
       "       'Rishma', 'Sika', 'Aeshita', 'Pariv', 'Shrin', 'Aarod', 'Abharth',\n",
       "       'A.Ed', 'Nanya', 'Shransh', 'Kibha', 'N.Ed', 'Ritva',\n",
       "       'Kolkata Consultant', 'Vivani', 'Zvi', 'Yashish', 'Chef', 'Kanya',\n",
       "       'Rha', 'Arsh', 'Viya', 'Aandini', 'Raj', 'Neda', 'Manani', 'Anmay',\n",
       "       'Aohi'], dtype=object)"
      ]
     },
     "execution_count": 50,
     "metadata": {},
     "output_type": "execute_result"
    }
   ],
   "source": [
    "df[\"Name\"].unique()"
   ]
  },
  {
   "cell_type": "code",
   "execution_count": 51,
   "id": "104901fc-6281-48f6-acad-9f942f45a55e",
   "metadata": {},
   "outputs": [],
   "source": [
    "names = { 'Prisha':'Trisha',\n",
    "          'Shvi': 'Shivi',\n",
    "          'Ritita': 'Ritika',\n",
    "          'Ruprey': 'Rupal',\n",
    "          'Anariv': 'Anirav',\n",
    "          'Aarhar': 'Aarav',\n",
    "          'Vivani': 'Vivaan',\n",
    "          'Raghavr': 'Raghav',\n",
    "         'Kolkata':'Chari',\n",
    "         'Pr.Ed':'Sriya',\n",
    "         'MCA':'Shiv',\n",
    "         'Krishna/ Krishna':'Krishna',\n",
    "         'R. Bhavna':'Bhavna',\n",
    "         'M.Com':'Bindu',\n",
    "         'BE':'Brindu',\n",
    "         'K.Ed':'sri',\n",
    "          'R. Aakash':'Aakash',\n",
    "        'Srinagar':'Srikar',\n",
    "         'A.Ed':'Ravi',\n",
    "         'N.Ed':'Umi',\n",
    "         'Kolkata Consultant':'Umesh',\n",
    "         'Chef':'Deep',\n",
    "         'Patna':'Deepak'\n",
    "        }\n",
    "         \n",
    "         \n",
    "         \n",
    "         \n",
    "\n",
    "         \n",
    "         \n",
    "         \n",
    "         "
   ]
  },
  {
   "cell_type": "code",
   "execution_count": 52,
   "id": "808148c0-ee1e-43e5-9e5d-d72c45117577",
   "metadata": {},
   "outputs": [],
   "source": [
    "df['Name'] = df['Name'].replace(names)"
   ]
  },
  {
   "cell_type": "code",
   "execution_count": 53,
   "id": "1156d8dc-4055-44b4-a78d-b871111bc9ce",
   "metadata": {},
   "outputs": [
    {
     "data": {
      "text/plain": [
       "array(['Shivam', 'Sanya', 'Yash', 'Nalini', 'Shaurya', 'Kartik', 'Armaan',\n",
       "       'Ritika', 'Navya', 'Harsha', 'Keshav', 'Raghav', 'Advait',\n",
       "       'Reyansh', 'Garima', 'Anvi', 'Rudra', 'Riya', 'Kiran', 'Rashi',\n",
       "       'Manan', 'Anjali', 'Vikram', 'Suhani', 'Ishaani', 'Ivaan',\n",
       "       'Bhavna', 'Rupa', 'Eshita', 'Ayaan', 'Vidya', 'Chirag', 'Rupal',\n",
       "       'Khushi', 'Aarav', 'Anika', 'Yashvi', 'Dhruv', 'Abhishek', 'Anaya',\n",
       "       'Ira', 'Nishant', 'Tushar', 'Saurav', 'Aaradhya', 'Vivan',\n",
       "       'Aanchal', 'Aishwarya', 'Aarush', 'Mithila', 'Vidhi', 'Rupak',\n",
       "       'Shrey', 'Monika', 'Shruti', 'Vaishnavi', 'Amit', 'Kavya', 'Vani',\n",
       "       'Trisha', 'Gaurav', 'Ritvik', 'Rudransh', 'Krishna', 'Raunak',\n",
       "       'Rahil', 'Harsh', 'Aarohi', 'Utkarsh', 'Siddhesh', 'Veda', 'Naina',\n",
       "       'Simran', 'Kunal', 'Leela', 'Jiya', 'Vihaan', 'Chhavi', 'Rishi',\n",
       "       'Mahika', 'Aakash', 'Kartikeya', 'Tanya', 'Esha', 'Arnav',\n",
       "       'Ishaan', 'Rohan', 'Sanket', 'Raghavendra', 'Shreya', 'Nikhil',\n",
       "       'Aariv', 'Tanisha', 'Aryan', 'Mahi', 'Ranveer', 'Ansh', 'Zara',\n",
       "       'Yuvraj', 'Yogesh', 'Kashish', 'Vedant', 'Tanvi', 'Harshil',\n",
       "       'Pranav', 'Diya', 'Arav', 'Rajat', 'Vibha', 'Ila', 'Janvi',\n",
       "       'Aadhya', 'Anushka', 'Vrinda', 'Ritik', 'Sneha', 'Pari', 'Pallavi',\n",
       "       'Shiv', 'Parth', 'Saanvi', 'Nandini', 'Apoorva', 'Gagan', 'Ayush',\n",
       "       'Lakshay', 'Aniket', 'Gauri', 'Aditi', 'Hrithik', 'Pooja',\n",
       "       'Atharv', 'Kanika', 'Palak', 'Mira', 'Jhanvi', 'Shivansh',\n",
       "       'Charvi', 'Vivaan', 'Anirudh', 'Darsh', 'Anand', 'Aahana', 'Aarya',\n",
       "       'Jai', 'Mayank', 'Om', 'Nikhaan', 'Abhinav', 'Vaanya', 'Pratham',\n",
       "       'Mihir', 'Prachi', 'Aarti', 'Kian', 'Shlok', 'Tejas', 'Siddhi',\n",
       "       'Dev', 'Ishan', 'Ishwar', 'Himani', 'Rhea', 'Harini', 'Tara',\n",
       "       'Isha', 'Ayansh', 'Bhavesh', 'Karishma', 'Vanya', 'Neil', 'Soham',\n",
       "       'Siddharth', 'Samar', 'Avni', 'Kriti', 'Ishita', 'Aditya',\n",
       "       'Damini', 'Nirvaan', 'Sanjeev', 'Satyam', 'Deepak', 'Lata',\n",
       "       'Nikita', 'Neha', 'Asha', 'Samaira', 'Lavanya', 'Manvi',\n",
       "       'Pratyush', 'Sara', 'Srishti', 'Ashita', 'Kabir', 'Arjun', 'Divya',\n",
       "       'Kiara', 'Nisha', 'Virat', 'Pihu', 'Arya', 'Kush', 'Jasmine',\n",
       "       'Barkha', 'Tina', 'Mukund', 'Zoya', 'Ishin', 'Sai', 'Nakul',\n",
       "       'Tanmay', 'Rya', 'Ranvi', 'Bhauri', 'Varun', 'Rajveer', 'Aneshv',\n",
       "       'Radhika', 'Vai', 'Yamini', 'Chari', 'Kalyan', 'Meera', 'Sriya',\n",
       "       'Tanveer', 'Chibha', 'Aalalav', 'Tohar', 'Anirav', 'Harshit',\n",
       "       'Shanaya', 'Shivi', 'Parvi', 'Aamir', 'Vashi', 'Mahan', 'Vaaya',\n",
       "       'Kishti', 'Aradhya', 'Anita', 'Yashi', 'Pranch', 'Ruprav',\n",
       "       'Vidara', 'Shir', 'Anishwarya', 'Dalvik', 'Priya', 'Shoham',\n",
       "       'Adik', 'Anakash', 'Bindu', 'Ishil', 'Rakav', 'Aaroor', 'Mahavya',\n",
       "       'Surat', 'Siddhish', 'Tanika', 'Brindu', 'Parit', 'Aarik', 'Adib',\n",
       "       'Sohan', 'AHM', 'Aarsha', 'Managan', 'Aar', 'Siddi', 'Nikhi',\n",
       "       'Aandla', 'Jaunak', 'Ajai', 'Vivian', 'Kikeya', 'Vaina', 'Virar',\n",
       "       'Aani', 'Anarav', 'Ejma', 'Ishaera', 'sri', 'Pruti', 'Aarohan',\n",
       "       'Taurav', 'Mahir', 'Riket', 'Anahk', 'Kanket', 'Shivan', 'Tanvik',\n",
       "       'Naham', 'Abrit', 'Aupal', 'Avaan', 'Vyaan', 'Siddil', 'Prani',\n",
       "       'Jha', 'Rupendra', 'Sita', 'Darshil', 'Abakression', 'Raghavadhya',\n",
       "       'Aarjun', 'Trav', 'Pritvik', 'Vihaly', 'Harshot', 'Kartush',\n",
       "       'Kartishti', 'Simplicio', 'Ivi', 'Vane', 'Ishaurya', 'Anwar',\n",
       "       'Abha', 'Abra', 'Ananchal', 'Prreveal', 'Vivi', 'Rupar', 'Vihirar',\n",
       "       'Vivar', 'Shivani', 'Rajika', 'Shashi', 'Anaghav', 'Rakash',\n",
       "       'Ewirat', 'Rarsh', 'Rietal', 'Rudhi', 'Ritini', 'Srikar', 'Rishma',\n",
       "       'Sika', 'Aeshita', 'Pariv', 'Shrin', 'Aarod', 'Abharth', 'Ravi',\n",
       "       'Nanya', 'Shransh', 'Kibha', 'Umi', 'Ritva', 'Umesh', 'Zvi',\n",
       "       'Yashish', 'Deep', 'Kanya', 'Rha', 'Arsh', 'Viya', 'Aandini',\n",
       "       'Raj', 'Neda', 'Manani', 'Anmay', 'Aohi'], dtype=object)"
      ]
     },
     "execution_count": 53,
     "metadata": {},
     "output_type": "execute_result"
    }
   ],
   "source": [
    "df[\"Name\"].unique()"
   ]
  },
  {
   "cell_type": "code",
   "execution_count": 54,
   "id": "3d580f7b-807f-4adb-8e9b-5d87753ad658",
   "metadata": {},
   "outputs": [
    {
     "data": {
      "text/plain": [
       "array(['Judge', 'Educational Consultant', 'Teacher', 'Customer Support',\n",
       "       'Chemist', 'Content Writer', 'Consultant', 'HR Manager',\n",
       "       'Research Analyst', 'Digital Marketer', 'Electrician',\n",
       "       'Marketing Manager', 'Plumber', 'Pharmacist', 'Lawyer', 'Pilot',\n",
       "       'Architect', 'Chef', 'Graphic Designer', 'Entrepreneur', 'Manager',\n",
       "       'Mechanical Engineer', 'Software Engineer', 'Travel Consultant',\n",
       "       'Finanancial Analyst', 'Financial Analyst', 'Doctor',\n",
       "       'Business Analyst', 'UX/UI Designer', 'Sales Executive',\n",
       "       'Data Scientist', 'Accountant', 'Researcher', 'Civil Engineer',\n",
       "       'Investment Banker', 'Unhealthy', 'B.Ed', 'Student',\n",
       "       'Working Professional', '3M', 'ME', 'B.Pharm', '24th', 'Manvi',\n",
       "       'Yogesh', 'Samar', 'Surat', 'PhD', 'M.Ed', 'MD', 'Name', 'MCA',\n",
       "       'Simran', 'Analyst', 'Profession', 'Unemployed', 'BBA', 'M.Tech',\n",
       "       'LLM', 'Surgeon', 'No', 'Unveil', 'City Consultant', 'M.Pharm'],\n",
       "      dtype=object)"
      ]
     },
     "execution_count": 54,
     "metadata": {},
     "output_type": "execute_result"
    }
   ],
   "source": [
    "df[\"Profession\"].unique()"
   ]
  },
  {
   "cell_type": "code",
   "execution_count": 55,
   "id": "dd36f728-31dd-48d6-832f-7b88105ac394",
   "metadata": {},
   "outputs": [],
   "source": [
    "x = {\n",
    "    'Enginer': 'Engineer',\n",
    "    'Data-scientist': 'Data Scientist',\n",
    "    'Hr': 'Human Resources',\n",
    "    'Doc': 'Doctor',\n",
    "    'Software Dev': 'Software Developer',\n",
    "    'Unhealthy':'Teacher',\n",
    "    'B.Ed':'Teacher',\n",
    "    '3M':'Teacher',\n",
    "    'ME':'Researcher',\n",
    "    'B.Pharm':'Pilot',\n",
    "    '24th':'Teacher',\n",
    "    'Manvi':'Research Analyst',\n",
    "    'Yogesh':'HR Manager',\n",
    "    'Samar':'Educational Consultant',\n",
    "    'Surat':'Engineer',\n",
    "    'PhD':'Researcher',\n",
    "    'M.Ed':'Teacher',\n",
    "    'MD':'Judge',\n",
    "    'Name':'Lawyer',\n",
    "    'Consultant':'Educational Consultant',\n",
    "    'MCA':'Data Scientist',\n",
    "     'Analyst':'Research Analyst',\n",
    "     'Profession':'Architect',\n",
    "    'BBA':'Mechanical Engineer',\n",
    "    'Working Professional':'Sales Executive',\n",
    "    'M.Tech':'Investment Banker',\n",
    "    'LLM':'Lawyer',\n",
    "    'No':'Surgeon',\n",
    "    'Unveil':'Teacher',\n",
    "    'M.Pharm':'Doctor',\n",
    "    'Simran':'Data Scientist'\n",
    "}\n",
    "    \n",
    "df['Profession'] = df['Profession'].replace(x) \n",
    "    \n",
    "    \n",
    "    \n",
    "    \n",
    "    \n",
    "    \n",
    "    \n",
    "    \n",
    "    \n",
    "    \n",
    "    "
   ]
  },
  {
   "cell_type": "code",
   "execution_count": 56,
   "id": "292777de-f71d-4b59-b66a-20852034de01",
   "metadata": {},
   "outputs": [
    {
     "data": {
      "text/plain": [
       "array(['Judge', 'Educational Consultant', 'Teacher', 'Customer Support',\n",
       "       'Chemist', 'Content Writer', 'HR Manager', 'Research Analyst',\n",
       "       'Digital Marketer', 'Electrician', 'Marketing Manager', 'Plumber',\n",
       "       'Pharmacist', 'Lawyer', 'Pilot', 'Architect', 'Chef',\n",
       "       'Graphic Designer', 'Entrepreneur', 'Manager',\n",
       "       'Mechanical Engineer', 'Software Engineer', 'Travel Consultant',\n",
       "       'Finanancial Analyst', 'Financial Analyst', 'Doctor',\n",
       "       'Business Analyst', 'UX/UI Designer', 'Sales Executive',\n",
       "       'Data Scientist', 'Accountant', 'Researcher', 'Civil Engineer',\n",
       "       'Investment Banker', 'Student', 'Engineer', 'Unemployed',\n",
       "       'Surgeon', 'City Consultant'], dtype=object)"
      ]
     },
     "execution_count": 56,
     "metadata": {},
     "output_type": "execute_result"
    }
   ],
   "source": [
    "df[\"Profession\"].unique()"
   ]
  },
  {
   "cell_type": "code",
   "execution_count": 57,
   "id": "d1ff2934-d411-42ee-a309-2cf3c32393f1",
   "metadata": {},
   "outputs": [
    {
     "data": {
      "text/plain": [
       "array(['Less than 5 hours', '7-8 hours', 'More than 8 hours', '5-6 hours',\n",
       "       '0', 'Meerut', '9-5 hours', '6-7 hours', '60-65 hours', 'Vivan',\n",
       "       '3-4 hours', '1-6 hours', '9-5', 'Unhealthy', '8-9 hours',\n",
       "       '4-5 hours', 'than 5 hours', '9-6 hours', '1-2 hours',\n",
       "       '8-89 hours', 'Have_you_ever_had_suicidal_thoughts', '20-21 hours',\n",
       "       '10-6 hours', '1-3 hours', '6 hours', '50-75 hours', '4-6 hours',\n",
       "       '2-3 hours', '9-11 hours', '9-10 hours', '3-6 hours'], dtype=object)"
      ]
     },
     "execution_count": 57,
     "metadata": {},
     "output_type": "execute_result"
    }
   ],
   "source": [
    "df[\"Sleep Duration\"].unique()"
   ]
  },
  {
   "cell_type": "code",
   "execution_count": 58,
   "id": "47893e68-6442-431f-8940-548939b4da50",
   "metadata": {},
   "outputs": [],
   "source": [
    "y = {\n",
    "    'Meerut':'7-8 hours',\n",
    "    'Vivan':'Less than 5 hours',\n",
    "    'Unhealthy':'Less than 5 hours',\n",
    "    'than 5 hours':'5 hours',\n",
    "    'Have_you_ever_had_suicidal_thoughts':'Less than 5 hours',\n",
    "    '0':'Less than 5 hours',\n",
    "    '60-65 hours':'Less than 5 hours',\n",
    "    '8-89 hours':'Less than 5 hours',\n",
    "    '50-75 hours':'Less than 5 hours',\n",
    "    '20-21 hours':'Less than 5 hours'\n",
    "    \n",
    "}\n",
    "df[\"Sleep Duration\"]=df[\"Sleep Duration\"].replace(y)  \n",
    "    \n",
    "    \n",
    "    "
   ]
  },
  {
   "cell_type": "code",
   "execution_count": 59,
   "id": "5cdf8005-4089-4bbc-a66f-9ca19ea5ba0e",
   "metadata": {},
   "outputs": [
    {
     "data": {
      "text/plain": [
       "array(['Less than 5 hours', '7-8 hours', 'More than 8 hours', '5-6 hours',\n",
       "       '9-5 hours', '6-7 hours', '3-4 hours', '1-6 hours', '9-5',\n",
       "       '8-9 hours', '4-5 hours', '5 hours', '9-6 hours', '1-2 hours',\n",
       "       '10-6 hours', '1-3 hours', '6 hours', '4-6 hours', '2-3 hours',\n",
       "       '9-11 hours', '9-10 hours', '3-6 hours'], dtype=object)"
      ]
     },
     "execution_count": 59,
     "metadata": {},
     "output_type": "execute_result"
    }
   ],
   "source": [
    "df[\"Sleep Duration\"].unique()"
   ]
  },
  {
   "cell_type": "code",
   "execution_count": 60,
   "id": "a9862a34-9b24-4855-a731-eb50b40362e4",
   "metadata": {},
   "outputs": [
    {
     "data": {
      "text/plain": [
       "array(['Moderate', 'Healthy', 'Unhealthy', 'More Healthy', 'No', 'Indoor',\n",
       "       'Prachi', 'Male', 'Less Healthy', 'Mealy', 'Resistant', 'MCA',\n",
       "       '5 Healthy', 'Academic', 'Educational', 'Soham', '5 Unhealthy',\n",
       "       'Vivaan', 'Raghav', '1.0', 'Naina', 'Kolkata'], dtype=object)"
      ]
     },
     "execution_count": 60,
     "metadata": {},
     "output_type": "execute_result"
    }
   ],
   "source": [
    "df[\"Dietary Habits\"].unique()"
   ]
  },
  {
   "cell_type": "code",
   "execution_count": 61,
   "id": "cb8be9aa-7205-4df1-b2c1-5f9ded8e981a",
   "metadata": {},
   "outputs": [],
   "source": [
    "z = {\n",
    "    'No':'Moderate',\n",
    "    'Indoor':'Healthy',\n",
    "    'Prachi':'Moderate',\n",
    "    'Male':'Unhealthy',\n",
    "     'Mealy':'Moderate',\n",
    "    'Resistant':'Unhealthy',\n",
    "    'MCA':'More Healthy',\n",
    "    '5 Healthy':'Healthy',\n",
    "     'Academic':'Moderate',\n",
    "    'Educational':'Healthy',\n",
    "    'Soham':'Moderate',\n",
    "    '5 Unhealthy':'More Healthy',\n",
    "    'Vivaan':'Moderate',\n",
    "    'Raghav':'Moderate',\n",
    "    '1.0':'Unhealthy',\n",
    "    'Naina':'Moderate',\n",
    "    'Kolkata':'Moderate'\n",
    "}\n",
    "    \n",
    "    \n",
    "df[\"Dietary Habits\"]=df[\"Dietary Habits\"].replace(z)   \n",
    "    \n",
    "    \n",
    "    \n",
    "    \n",
    "    \n",
    "    \n",
    "    \n",
    "    \n",
    "    \n",
    "    \n",
    "    \n",
    "    \n",
    "     "
   ]
  },
  {
   "cell_type": "code",
   "execution_count": 62,
   "id": "80f17f05-98e5-4b16-938a-db5907183ea9",
   "metadata": {},
   "outputs": [
    {
     "data": {
      "text/plain": [
       "array(['Moderate', 'Healthy', 'Unhealthy', 'More Healthy', 'Less Healthy'],\n",
       "      dtype=object)"
      ]
     },
     "execution_count": 62,
     "metadata": {},
     "output_type": "execute_result"
    }
   ],
   "source": [
    "df[\"Dietary Habits\"].unique()"
   ]
  },
  {
   "cell_type": "code",
   "execution_count": 63,
   "id": "cab3d895-50f9-4778-9218-8682ba2237fd",
   "metadata": {},
   "outputs": [
    {
     "data": {
      "text/plain": [
       "array(['Yes', 'No'], dtype=object)"
      ]
     },
     "execution_count": 63,
     "metadata": {},
     "output_type": "execute_result"
    }
   ],
   "source": [
    "df[\"Family History of Mental Illness\"].unique()"
   ]
  },
  {
   "cell_type": "markdown",
   "id": "1104f6b5-f50b-4379-8fda-d06fd496c3ee",
   "metadata": {},
   "source": [
    "- When working with categorical columns in this dataset (like Name, City,Degree, Profession, Dietary Habits, etc.), inconsistencies often appear as:\n",
    "   - Typos (Vegitarian → Vegetarian).\n",
    "   - Missing values (NaN).\n",
    "   - And also some numerical values.\n",
    "   - Repeated values etc..\n",
    "- process to fix inconsistencies in categorical data\n",
    "   - Identify categorical columns.\n",
    "   - Inspect unique values.\n",
    "   - Replace inconsistent values with \".replace()\" method.\n",
    "   - Re-check unique values to confirm consistency."
   ]
  },
  {
   "cell_type": "markdown",
   "id": "8ebcaf4b-ef6d-4980-a7a9-276498b47186",
   "metadata": {},
   "source": [
    "# 4.  Convert Data Types"
   ]
  },
  {
   "cell_type": "code",
   "execution_count": 64,
   "id": "2fc125f8-fbd2-42c8-9011-b34d3fd3f003",
   "metadata": {},
   "outputs": [],
   "source": [
    "df[\"Age\"]=df[\"Age\"].astype(int)"
   ]
  },
  {
   "cell_type": "code",
   "execution_count": 65,
   "id": "d733182a-c412-4223-aee9-6b740ea756eb",
   "metadata": {},
   "outputs": [
    {
     "data": {
      "text/plain": [
       "0        53\n",
       "1        58\n",
       "2        53\n",
       "3        23\n",
       "4        47\n",
       "         ..\n",
       "93795    49\n",
       "93796    29\n",
       "93797    24\n",
       "93798    23\n",
       "93799    43\n",
       "Name: Age, Length: 93800, dtype: int32"
      ]
     },
     "execution_count": 65,
     "metadata": {},
     "output_type": "execute_result"
    }
   ],
   "source": [
    "df[\"Age\"]"
   ]
  },
  {
   "cell_type": "code",
   "execution_count": 66,
   "id": "1efbdca3-413a-4fd0-8795-fd7757dbdd1e",
   "metadata": {},
   "outputs": [],
   "source": [
    "df[\"Work/Study Hours\"]=df[\"Work/Study Hours\"].astype(int)"
   ]
  },
  {
   "cell_type": "code",
   "execution_count": 67,
   "id": "04112c69-d1e4-4d96-861b-bdc14b683984",
   "metadata": {},
   "outputs": [
    {
     "data": {
      "text/plain": [
       "0         9\n",
       "1         6\n",
       "2        12\n",
       "3        10\n",
       "4         3\n",
       "         ..\n",
       "93795     2\n",
       "93796    11\n",
       "93797     7\n",
       "93798     7\n",
       "93799    11\n",
       "Name: Work/Study Hours, Length: 93800, dtype: int32"
      ]
     },
     "execution_count": 67,
     "metadata": {},
     "output_type": "execute_result"
    }
   ],
   "source": [
    "df[\"Work/Study Hours\"]"
   ]
  },
  {
   "cell_type": "markdown",
   "id": "7f1a3605-ac53-45c5-ab46-e6b24f071e7b",
   "metadata": {},
   "source": [
    "# Observation\n",
    "  - Converting Age column to int makes sense because age is always a whole number.\n",
    "  - Converting Work/Study Hours to int makes sense because Hours is usually a whole number."
   ]
  },
  {
   "cell_type": "markdown",
   "id": "6aa7d825-00fc-42d5-9743-b7767f52cbda",
   "metadata": {},
   "source": [
    "# 5.  Non-Visual Bivariate Analysis"
   ]
  },
  {
   "cell_type": "code",
   "execution_count": 68,
   "id": "7d338618-c4d3-4801-b359-f093cca4d158",
   "metadata": {},
   "outputs": [],
   "source": [
    "import seaborn as sns\n",
    "import matplotlib.pyplot as plt"
   ]
  },
  {
   "cell_type": "markdown",
   "id": "de35c0e0-87f7-4bf7-879b-e8073c331623",
   "metadata": {},
   "source": [
    "### Univariate"
   ]
  },
  {
   "cell_type": "markdown",
   "id": "94f90385-d8ae-48dc-a790-2f8e4bf04683",
   "metadata": {},
   "source": [
    "#### Age distribution"
   ]
  },
  {
   "cell_type": "code",
   "execution_count": 69,
   "id": "106a41b2-82eb-4236-849b-ce106908eb17",
   "metadata": {},
   "outputs": [
    {
     "data": {
      "image/png": "[encoded data removed]",
      "text/plain": [
       "<Figure size 800x500 with 1 Axes>"
      ]
     },
     "metadata": {},
     "output_type": "display_data"
    }
   ],
   "source": [
    "plt.figure(figsize=(8,5))\n",
    "sns.histplot(df[\"Age\"], bins=20, kde=True)\n",
    "plt.title(\"Age Distribution\")\n",
    "plt.show()"
   ]
  },
  {
   "cell_type": "markdown",
   "id": "6f80f9c7-167b-4c4a-8dcd-210ba633e8ee",
   "metadata": {},
   "source": [
    "#### Observation"
   ]
  },
  {
   "cell_type": "markdown",
   "id": "2653626d-9eb8-4931-aafd-e4a463807694",
   "metadata": {},
   "source": [
    "- The age distribution in the dataset shows that most participants fall within the younger to middle-age range, with fewer individuals at the extreme ends."
   ]
  },
  {
   "cell_type": "markdown",
   "id": "49b2b3fd-df09-42ca-84a3-b5acc34399b1",
   "metadata": {},
   "source": [
    "#### Gender count"
   ]
  },
  {
   "cell_type": "code",
   "execution_count": 70,
   "id": "b37bbc64-5e69-43d9-8ac7-3450c84a6c91",
   "metadata": {},
   "outputs": [
    {
     "name": "stderr",
     "output_type": "stream",
     "text": [
      "C:\\Users\\Suddala Vaishnavi\\AppData\\Local\\Temp\\ipykernel_21240\\2257747856.py:3: UserWarning: The palette list has more values (6) than needed (2), which may not be intended.\n",
      "  sns.countplot(x=\"Gender\", data=df,hue=\"Gender\",palette=colors,legend=False)\n"
     ]
    },
    {
     "data": {
      "image/png": "[encoded data removed]",
      "text/plain": [
       "<Figure size 600x400 with 1 Axes>"
      ]
     },
     "metadata": {},
     "output_type": "display_data"
    }
   ],
   "source": [
    "colors=sns.color_palette(\"cubehelix\")\n",
    "plt.figure(figsize=(6,4))\n",
    "sns.countplot(x=\"Gender\", data=df,hue=\"Gender\",palette=colors,legend=False)\n",
    "plt.title(\"Gender Distribution\")\n",
    "plt.show()"
   ]
  },
  {
   "cell_type": "markdown",
   "id": "4c234cc0-8f58-4983-9240-5406022ed9a7",
   "metadata": {},
   "source": [
    "### Bivariate Analysis"
   ]
  },
  {
   "cell_type": "markdown",
   "id": "16f7c516-7bd4-4daa-8ca7-1c1091d5d576",
   "metadata": {},
   "source": [
    "### Categorical vs Categorical"
   ]
  },
  {
   "cell_type": "markdown",
   "id": "0e38f170-9a38-40e3-9624-c35cb3854975",
   "metadata": {},
   "source": [
    "#### Countplot"
   ]
  },
  {
   "cell_type": "code",
   "execution_count": 71,
   "id": "ac50c4dd-2cf9-4ee7-b331-09587a15c123",
   "metadata": {},
   "outputs": [
    {
     "data": {
      "image/png": "[encoded data removed]",
      "text/plain": [
       "<Figure size 600x400 with 1 Axes>"
      ]
     },
     "metadata": {},
     "output_type": "display_data"
    }
   ],
   "source": [
    "plt.figure(figsize=(6,4))\n",
    "sns.countplot(x=\"Gender\", hue=\"Suicidal thoughts\", data=df)\n",
    "plt.title(\"Gender vs Suicidal Thoughts\")\n",
    "plt.show()"
   ]
  },
  {
   "cell_type": "markdown",
   "id": "eea5900f-5ceb-4e12-a92a-fc1e08aaed05",
   "metadata": {},
   "source": [
    "### Observation"
   ]
  },
  {
   "cell_type": "markdown",
   "id": "d6a42257-4390-4a34-aae1-a08d521e4d98",
   "metadata": {},
   "source": [
    "- This shows how suicidal thoughts differ across genders, helping identify if one gender reports them more frequently."
   ]
  },
  {
   "cell_type": "markdown",
   "id": "e1c6d192-f5ab-4d1f-bbe9-71818e7c4ada",
   "metadata": {},
   "source": [
    "#### Heatmap"
   ]
  },
  {
   "cell_type": "code",
   "execution_count": 72,
   "id": "4226bce2-0af1-484a-a3c0-f72a02a49c5e",
   "metadata": {},
   "outputs": [
    {
     "data": {
      "image/png": "[encoded data removed]",
      "text/plain": [
       "<Figure size 600x400 with 2 Axes>"
      ]
     },
     "metadata": {},
     "output_type": "display_data"
    }
   ],
   "source": [
    "ct = pd.crosstab(df[\"Gender\"], df[\"Suicidal thoughts\"])\n",
    "plt.figure(figsize=(6,4))\n",
    "sns.heatmap(ct, annot=True, fmt=\"d\", cmap=\"YlGnBu\")\n",
    "plt.title(\"Heatmap: Gender vs Suicidal Thoughts\")\n",
    "plt.show()"
   ]
  },
  {
   "cell_type": "markdown",
   "id": "266e3020-ee12-40bf-bbd5-8f4e6534ca48",
   "metadata": {},
   "source": [
    "### Categorical vs Numerical"
   ]
  },
  {
   "cell_type": "code",
   "execution_count": 88,
   "id": "e64b8bbd-ee4f-4db5-b409-74c6e4c256b1",
   "metadata": {},
   "outputs": [
    {
     "data": {
      "image/png": "[encoded data removed]",
      "text/plain": [
       "<Figure size 1800x1600 with 1 Axes>"
      ]
     },
     "metadata": {},
     "output_type": "display_data"
    }
   ],
   "source": [
    "plt.figure(figsize=(18,16))\n",
    "sns.boxplot(x = \"Profession\",y = \"Work/Study Hours\",data=df)\n",
    "plt.title(\"Profession vs Work/Study Hours\")\n",
    "plt.xticks(rotation=90)\n",
    "plt.show()"
   ]
  },
  {
   "cell_type": "code",
   "execution_count": 74,
   "id": "660bbff7-89c0-4448-967c-596a2596cee9",
   "metadata": {},
   "outputs": [
    {
     "data": {
      "text/html": [
       "<div>\n",
       "<style scoped>\n",
       "    .dataframe tbody tr th:only-of-type {\n",
       "        vertical-align: middle;\n",
       "    }\n",
       "\n",
       "    .dataframe tbody tr th {\n",
       "        vertical-align: top;\n",
       "    }\n",
       "\n",
       "    .dataframe thead th {\n",
       "        text-align: right;\n",
       "    }\n",
       "</style>\n",
       "<table border=\"1\" class=\"dataframe\">\n",
       "  <thead>\n",
       "    <tr style=\"text-align: right;\">\n",
       "      <th></th>\n",
       "      <th>id</th>\n",
       "      <th>Name</th>\n",
       "      <th>Gender</th>\n",
       "      <th>Age</th>\n",
       "      <th>City</th>\n",
       "      <th>Working Professional or Student</th>\n",
       "      <th>Profession</th>\n",
       "      <th>Work Pressure</th>\n",
       "      <th>Job Satisfaction</th>\n",
       "      <th>Sleep Duration</th>\n",
       "      <th>Dietary Habits</th>\n",
       "      <th>Degree</th>\n",
       "      <th>Suicidal thoughts</th>\n",
       "      <th>Work/Study Hours</th>\n",
       "      <th>Financial Stress</th>\n",
       "      <th>Family History of Mental Illness</th>\n",
       "    </tr>\n",
       "  </thead>\n",
       "  <tbody>\n",
       "    <tr>\n",
       "      <th>0</th>\n",
       "      <td>140700</td>\n",
       "      <td>Shivam</td>\n",
       "      <td>Male</td>\n",
       "      <td>53</td>\n",
       "      <td>Visakhapatnam</td>\n",
       "      <td>Working Professional</td>\n",
       "      <td>Judge</td>\n",
       "      <td>2.0</td>\n",
       "      <td>5.0</td>\n",
       "      <td>Less than 5 hours</td>\n",
       "      <td>Moderate</td>\n",
       "      <td>LLB</td>\n",
       "      <td>No</td>\n",
       "      <td>9</td>\n",
       "      <td>3.0</td>\n",
       "      <td>Yes</td>\n",
       "    </tr>\n",
       "    <tr>\n",
       "      <th>1</th>\n",
       "      <td>140701</td>\n",
       "      <td>Sanya</td>\n",
       "      <td>Female</td>\n",
       "      <td>58</td>\n",
       "      <td>Kolkata</td>\n",
       "      <td>Working Professional</td>\n",
       "      <td>Educational Consultant</td>\n",
       "      <td>2.0</td>\n",
       "      <td>4.0</td>\n",
       "      <td>Less than 5 hours</td>\n",
       "      <td>Moderate</td>\n",
       "      <td>B.Ed</td>\n",
       "      <td>No</td>\n",
       "      <td>6</td>\n",
       "      <td>4.0</td>\n",
       "      <td>No</td>\n",
       "    </tr>\n",
       "    <tr>\n",
       "      <th>2</th>\n",
       "      <td>140702</td>\n",
       "      <td>Yash</td>\n",
       "      <td>Male</td>\n",
       "      <td>53</td>\n",
       "      <td>Jaipur</td>\n",
       "      <td>Working Professional</td>\n",
       "      <td>Teacher</td>\n",
       "      <td>4.0</td>\n",
       "      <td>1.0</td>\n",
       "      <td>7-8 hours</td>\n",
       "      <td>Moderate</td>\n",
       "      <td>B.Arch</td>\n",
       "      <td>Yes</td>\n",
       "      <td>12</td>\n",
       "      <td>4.0</td>\n",
       "      <td>No</td>\n",
       "    </tr>\n",
       "    <tr>\n",
       "      <th>3</th>\n",
       "      <td>140703</td>\n",
       "      <td>Nalini</td>\n",
       "      <td>Female</td>\n",
       "      <td>23</td>\n",
       "      <td>Rajkot</td>\n",
       "      <td>Student</td>\n",
       "      <td>Teacher</td>\n",
       "      <td>3.0</td>\n",
       "      <td>3.0</td>\n",
       "      <td>More than 8 hours</td>\n",
       "      <td>Moderate</td>\n",
       "      <td>B.Sc</td>\n",
       "      <td>Yes</td>\n",
       "      <td>10</td>\n",
       "      <td>4.0</td>\n",
       "      <td>No</td>\n",
       "    </tr>\n",
       "    <tr>\n",
       "      <th>4</th>\n",
       "      <td>140704</td>\n",
       "      <td>Shaurya</td>\n",
       "      <td>Male</td>\n",
       "      <td>47</td>\n",
       "      <td>Visakhapatnam</td>\n",
       "      <td>Working Professional</td>\n",
       "      <td>Teacher</td>\n",
       "      <td>5.0</td>\n",
       "      <td>5.0</td>\n",
       "      <td>7-8 hours</td>\n",
       "      <td>Moderate</td>\n",
       "      <td>BCA</td>\n",
       "      <td>Yes</td>\n",
       "      <td>3</td>\n",
       "      <td>4.0</td>\n",
       "      <td>No</td>\n",
       "    </tr>\n",
       "  </tbody>\n",
       "</table>\n",
       "</div>"
      ],
      "text/plain": [
       "       id     Name  Gender  Age           City  \\\n",
       "0  140700   Shivam    Male   53  Visakhapatnam   \n",
       "1  140701    Sanya  Female   58        Kolkata   \n",
       "2  140702     Yash    Male   53         Jaipur   \n",
       "3  140703   Nalini  Female   23         Rajkot   \n",
       "4  140704  Shaurya    Male   47  Visakhapatnam   \n",
       "\n",
       "  Working Professional or Student              Profession  Work Pressure  \\\n",
       "0            Working Professional                   Judge            2.0   \n",
       "1            Working Professional  Educational Consultant            2.0   \n",
       "2            Working Professional                 Teacher            4.0   \n",
       "3                         Student                 Teacher            3.0   \n",
       "4            Working Professional                 Teacher            5.0   \n",
       "\n",
       "   Job Satisfaction     Sleep Duration Dietary Habits  Degree  \\\n",
       "0               5.0  Less than 5 hours       Moderate     LLB   \n",
       "1               4.0  Less than 5 hours       Moderate    B.Ed   \n",
       "2               1.0          7-8 hours       Moderate  B.Arch   \n",
       "3               3.0  More than 8 hours       Moderate    B.Sc   \n",
       "4               5.0          7-8 hours       Moderate     BCA   \n",
       "\n",
       "  Suicidal thoughts  Work/Study Hours  Financial Stress  \\\n",
       "0                No                 9               3.0   \n",
       "1                No                 6               4.0   \n",
       "2               Yes                12               4.0   \n",
       "3               Yes                10               4.0   \n",
       "4               Yes                 3               4.0   \n",
       "\n",
       "  Family History of Mental Illness  \n",
       "0                              Yes  \n",
       "1                               No  \n",
       "2                               No  \n",
       "3                               No  \n",
       "4                               No  "
      ]
     },
     "execution_count": 74,
     "metadata": {},
     "output_type": "execute_result"
    }
   ],
   "source": [
    "df.head()"
   ]
  },
  {
   "cell_type": "code",
   "execution_count": null,
   "id": "56a65583-09e1-45f0-b83d-7d7ee1390a7b",
   "metadata": {},
   "outputs": [],
   "source": []
  },
  {
   "cell_type": "code",
   "execution_count": 79,
   "id": "ba991bb3-0085-44fa-9822-c77465858ab2",
   "metadata": {},
   "outputs": [
    {
     "name": "stderr",
     "output_type": "stream",
     "text": [
      "C:\\Users\\Suddala Vaishnavi\\AppData\\Local\\Temp\\ipykernel_21240\\2010520212.py:2: FutureWarning: \n",
      "\n",
      "Passing `palette` without assigning `hue` is deprecated and will be removed in v0.14.0. Assign the `x` variable to `hue` and set `legend=False` for the same effect.\n",
      "\n",
      "  sns.barplot(x=\"Profession\",\n"
     ]
    },
    {
     "data": {
      "image/png": "[encoded data removed]",
      "text/plain": [
       "<Figure size 1000x500 with 1 Axes>"
      ]
     },
     "metadata": {},
     "output_type": "display_data"
    }
   ],
   "source": [
    "plt.figure(figsize=(10,5))\n",
    "sns.barplot(x=\"Profession\", \n",
    "            y=\"Work Pressure\", \n",
    "            data=df, \n",
    "            estimator=np.mean, \n",
    "            palette=\"viridis\")   \n",
    "plt.xticks(rotation=90)\n",
    "plt.title(\"Average Work Pressure by Profession\")\n",
    "plt.show()"
   ]
  },
  {
   "cell_type": "markdown",
   "id": "422d192d-c345-41eb-a041-fd4fc7542f84",
   "metadata": {},
   "source": [
    "#### Observation"
   ]
  },
  {
   "cell_type": "markdown",
   "id": "52c00c31-7f95-4798-b9a0-425fd509f2e5",
   "metadata": {},
   "source": [
    "- Certain professions report higher average work pressure, highlighting occupational stress patterns."
   ]
  },
  {
   "cell_type": "markdown",
   "id": "dc1a8404-dc61-4be1-a3af-b41d4197dbde",
   "metadata": {},
   "source": [
    "### Numerical vs Numerical"
   ]
  },
  {
   "cell_type": "code",
   "execution_count": 80,
   "id": "983d86dd-3b8a-4dba-98c4-baa9e92fc2f6",
   "metadata": {},
   "outputs": [
    {
     "data": {
      "image/png": "[encoded data removed]",
      "text/plain": [
       "<Figure size 600x400 with 1 Axes>"
      ]
     },
     "metadata": {},
     "output_type": "display_data"
    },
    {
     "name": "stdout",
     "output_type": "stream",
     "text": [
      "Correlation: -0.041823890106371074\n"
     ]
    }
   ],
   "source": [
    "plt.figure(figsize=(6,4))\n",
    "sns.scatterplot(x=\"Work Pressure\", y=\"Job Satisfaction\", data=df)\n",
    "plt.title(\"Work Pressure vs Job Satisfaction\")\n",
    "plt.show()\n",
    "print(\"Correlation:\", df[\"Work Pressure\"].corr(df[\"Job Satisfaction\"]))"
   ]
  },
  {
   "cell_type": "markdown",
   "id": "7290a27e-b83d-442d-b404-acde5ceab475",
   "metadata": {},
   "source": [
    "#### Observation"
   ]
  },
  {
   "cell_type": "markdown",
   "id": "f1f5d400-dc11-44f0-bf6e-a3ad9aa5a331",
   "metadata": {},
   "source": [
    "- There is often a negative correlation between work pressure and job satisfaction — as work pressure increases, satisfaction tends to decrease."
   ]
  },
  {
   "cell_type": "code",
   "execution_count": 81,
   "id": "e6c0be0f-5486-4bb4-ae9e-bd7a97f10410",
   "metadata": {},
   "outputs": [
    {
     "data": {
      "image/png": "[encoded data removed]",
      "text/plain": [
       "<Figure size 600x400 with 1 Axes>"
      ]
     },
     "metadata": {},
     "output_type": "display_data"
    },
    {
     "name": "stdout",
     "output_type": "stream",
     "text": [
      "Correlation: -0.12077037905058527\n"
     ]
    }
   ],
   "source": [
    "plt.figure(figsize=(6,4))\n",
    "sns.scatterplot(x=\"Age\", y=\"Work/Study Hours\", data=df)\n",
    "plt.title(\"Age vs Work/Study Hours\")\n",
    "plt.show()\n",
    "print(\"Correlation:\", df[\"Age\"].corr(df[\"Work/Study Hours\"]))"
   ]
  },
  {
   "cell_type": "markdown",
   "id": "931225af-27ce-4540-950a-d0613bf99780",
   "metadata": {},
   "source": [
    "- The correlation between age and work/study hours is -0.12077, indicating a very weak negative correlation.This suggests a minimal tendency for work/study hours to decrease slightly as age increases, but the relationship is not statistically significant."
   ]
  },
  {
   "cell_type": "markdown",
   "id": "d8842835-5030-4748-b51f-66cfd9e01be1",
   "metadata": {},
   "source": [
    "### Multivariate Analysis"
   ]
  },
  {
   "cell_type": "code",
   "execution_count": 82,
   "id": "4000be88-3ace-427f-8cd5-559cccb77ee1",
   "metadata": {},
   "outputs": [
    {
     "data": {
      "image/png": "[encoded data removed]",
      "text/plain": [
       "<Figure size 800x600 with 1 Axes>"
      ]
     },
     "metadata": {},
     "output_type": "display_data"
    }
   ],
   "source": [
    "plt.figure(figsize=(8,6))\n",
    "sns.scatterplot(x=\"Work/Study Hours\", y=\"Job Satisfaction\", hue=\"Gender\", data=df)\n",
    "plt.title(\"Work/Study Hours vs Job Satisfaction by Gender\")\n",
    "plt.show()"
   ]
  },
  {
   "cell_type": "code",
   "execution_count": 83,
   "id": "db97989f-a3c3-45fc-a376-e9c2dc2d45c4",
   "metadata": {},
   "outputs": [
    {
     "data": {
      "image/png": "[encoded data removed]",
      "text/plain": [
       "<Figure size 800x600 with 1 Axes>"
      ]
     },
     "metadata": {},
     "output_type": "display_data"
    }
   ],
   "source": [
    "plt.figure(figsize=(8,6))\n",
    "sns.scatterplot(x=\"Work/Study Hours\", y=\"Age\", hue=\"Gender\", data=df)\n",
    "plt.title(\"Work/Study Hours vs Age by Gender\")\n",
    "plt.show()"
   ]
  },
  {
   "cell_type": "code",
   "execution_count": 84,
   "id": "b2896f20-3323-4177-b358-e19b46331adc",
   "metadata": {},
   "outputs": [
    {
     "data": {
      "image/png": "[encoded data removed]",
      "text/plain": [
       "<Figure size 1000x600 with 2 Axes>"
      ]
     },
     "metadata": {},
     "output_type": "display_data"
    }
   ],
   "source": [
    "plt.figure(figsize=(10,6))\n",
    "sns.heatmap(df.corr(numeric_only=True), annot=True, cmap=\"coolwarm\", linewidths=0.5)\n",
    "plt.title(\"Correlation Heatmap\")\n",
    "plt.show()"
   ]
  },
  {
   "cell_type": "markdown",
   "id": "449a2921-4782-4406-87d7-6d8f04f24485",
   "metadata": {},
   "source": [
    "# Final Summary"
   ]
  },
  {
   "cell_type": "markdown",
   "id": "16c3afdc-39d1-4358-af63-4b1d5eba9c80",
   "metadata": {},
   "source": [
    "### Issues found in the raw dataset \n",
    "    "
   ]
  },
  {
   "cell_type": "markdown",
   "id": "53e2a832-b059-407a-964d-34cb23f8ec3d",
   "metadata": {},
   "source": [
    "- Several columns contained missing values, especially in Profession, Work Pressure, and Job Satisfaction.\n",
    "- Inconsistencies were present in categorical columns such as Degree, City, Dietary Habits, and Profession (e.g., typos, capitalization issues, and multiple spellings for the same category).\n",
    "- Numeric columns like Age and Work/Study Hours required type conversion to integers for consistency.                                                                                                                                                                     "
   ]
  },
  {
   "cell_type": "markdown",
   "id": "cb159ae1-2e1c-44a0-99ba-2ba8a009490b",
   "metadata": {},
   "source": [
    "### How missing values and inconsistencies were resolved"
   ]
  },
  {
   "cell_type": "markdown",
   "id": "bd690a16-3583-4075-8b8f-f8c58ffdd08c",
   "metadata": {},
   "source": [
    "- For numerical columns, missing values were imputed using the median and mean to avoid skewness.\n",
    "- For categorical columns, missing values were filled using the mode.\n",
    "- Text-based inconsistencies were fixed by applying \".replace()\" method."
   ]
  },
  {
   "cell_type": "markdown",
   "id": "9416b2d3-e403-453b-887b-ac8891315081",
   "metadata": {},
   "source": [
    "### Summary of bivariate relationships discovered"
   ]
  },
  {
   "cell_type": "markdown",
   "id": "844f1a05-dda3-42de-b7a3-ad8cd0e659a0",
   "metadata": {},
   "source": [
    "- The bivariate relationship between gender and suicidal thoughts indicates that while males have a slightly higher count of people reporting \"no\" suicidal thoughts, the proportion of males who report \"yes\" to suicidal thoughts appears similar to or slightly higher than females.\n",
    "- The bivariate relationship between profession and average work pressure, The plot shows that \"City Consultant\" and \"Student\" professions have the highest average work pressure, while other professions like \"Judge,\" \"Teacher,\" and \"Educational Consultant\" have relatively low and similar average work pressure.\n",
    "- The bivariate relationship between work pressure and job satisfaction, The plot shows a weak negative correlation between the two variables, with a calculated correlation coefficient of approximately -0.04. This suggests that as work pressure increases, job satisfaction tends to slightly decrease, although the relationship is not strong."
   ]
  },
  {
   "cell_type": "markdown",
   "id": "31db1eae-6de3-4f85-a3e4-40b157e42b3b",
   "metadata": {},
   "source": [
    "### Confirmation that the data is clean and ready for analysis or modeling"
   ]
  },
  {
   "cell_type": "markdown",
   "id": "4d9ed8af-b612-4267-8645-79f900c555c2",
   "metadata": {},
   "source": [
    "- After handling missing values and standardizing categories, the dataset is now consistent, complete, and properly structured.\n",
    "\n",
    "- The data is ready for deeper analysis, visualization, or predictive modeling."
   ]
  },
  {
   "cell_type": "code",
   "execution_count": null,
   "id": "248d80ff-9061-4019-89e4-4ecc9baac2ab",
   "metadata": {},
   "outputs": [],
   "source": []
  }
 ],
 "metadata": {
  "kernelspec": {
   "display_name": "Python [conda env:base] *",
   "language": "python",
   "name": "conda-base-py"
  },
  "language_info": {
   "codemirror_mode": {
    "name": "ipython",
    "version": 3
   },
   "file_extension": ".py",
   "mimetype": "text/x-python",
   "name": "python",
   "nbconvert_exporter": "python",
   "pygments_lexer": "ipython3",
   "version": "3.12.7"
  }
 },
 "nbformat": 4,
 "nbformat_minor": 5
}
